{
 "cells": [
  {
   "cell_type": "code",
   "execution_count": 10,
   "id": "d3483582",
   "metadata": {},
   "outputs": [],
   "source": [
    "!pip install soynlp"
   ]
  },
  {
   "cell_type": "code",
   "execution_count": 11,
   "id": "eef596cc",
   "metadata": {},
   "outputs": [],
   "source": [
    "import pandas as pd\n",
    "import numpy as np\n",
    "\n",
    "from soynlp.hangle import levenshtein\n",
    "from soynlp.hangle import jamo_levenshtein "
   ]
  },
  {
   "cell_type": "code",
   "execution_count": 12,
   "id": "7b307269",
   "metadata": {},
   "outputs": [],
   "source": [
    "FILE_PATH = './'"
   ]
  },
  {
   "cell_type": "code",
   "execution_count": 13,
   "id": "7d9df25a",
   "metadata": {},
   "outputs": [],
   "source": [
    "human = pd.read_csv(FILE_PATH+'HumanAI.csv')\n",
    "\n",
    "best = pd.read_csv(FILE_PATH+'Your file')"
   ]
  },
  {
   "cell_type": "code",
   "execution_count": 24,
   "id": "730a56c3",
   "metadata": {},
   "outputs": [],
   "source": [
    "def edit_distance(data, test_data):\n",
    "    scores = []\n",
    "    for i in range(10,21):\n",
    "        data_copied = data.copy()\n",
    "        data_copied[\"Predicted\"] = data_copied[\"Predicted\"].apply(lambda x: x[-i:])    \n",
    "    \n",
    "        data_copied.fillna('', inplace=True)\n",
    "        test_data.fillna('', inplace=True)\n",
    "\n",
    "        result = []\n",
    "\n",
    "        for i in range(len(data_copied)):\n",
    "            result.append(jamo_levenshtein(data_copied['Predicted'][i], test_data['Predicted'][i]))\n",
    "        \n",
    "        score = str(np.mean(result)) \n",
    "        scores.append(score)\n",
    "\n",
    "    return scores "
   ]
  },
  {
   "cell_type": "code",
   "execution_count": 25,
   "id": "2552f7ff",
   "metadata": {},
   "outputs": [
    {
     "data": {
      "text/plain": [
       "['1.1503659347970723',\n",
       " '1.1289088489687291',\n",
       " '1.1182634730538923',\n",
       " '1.1185961410512308',\n",
       " '1.1253326679973386',\n",
       " '1.1383067198935461',\n",
       " '1.1533599467731204',\n",
       " '1.1721556886227544',\n",
       " '1.1926979374584163',\n",
       " '1.2151530272787758',\n",
       " '1.237857618097139']"
      ]
     },
     "execution_count": 25,
     "metadata": {},
     "output_type": "execute_result"
    }
   ],
   "source": [
    "edit_distance(best, human)"
   ]
  }
 ],
 "metadata": {
  "kernelspec": {
   "display_name": "Python 3",
   "language": "python",
   "name": "python3"
  },
  "language_info": {
   "codemirror_mode": {
    "name": "ipython",
    "version": 3
   },
   "file_extension": ".py",
   "mimetype": "text/x-python",
   "name": "python",
   "nbconvert_exporter": "python",
   "pygments_lexer": "ipython3",
   "version": "3.8.8"
  }
 },
 "nbformat": 4,
 "nbformat_minor": 5
}
