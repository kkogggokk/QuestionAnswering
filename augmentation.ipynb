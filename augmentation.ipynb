{
  "nbformat": 4,
  "nbformat_minor": 0,
  "metadata": {
    "kernelspec": {
      "language": "python",
      "display_name": "Python 3",
      "name": "python3"
    },
    "language_info": {
      "pygments_lexer": "ipython3",
      "nbconvert_exporter": "python",
      "version": "3.6.4",
      "file_extension": ".py",
      "codemirror_mode": {
        "name": "ipython",
        "version": 3
      },
      "name": "python",
      "mimetype": "text/x-python"
    },
    "colab": {
      "name": "Augmentation.ipynb",
      "provenance": [],
      "collapsed_sections": []
    }
  },
  "cells": [
    {
      "cell_type": "code",
      "metadata": {
        "id": "X7lGZlCnnTLb",
        "execution": {
          "iopub.status.busy": "2021-11-12T12:00:59.423097Z",
          "iopub.execute_input": "2021-11-12T12:00:59.423568Z",
          "iopub.status.idle": "2021-11-12T12:01:08.259524Z",
          "shell.execute_reply.started": "2021-11-12T12:00:59.423531Z",
          "shell.execute_reply": "2021-11-12T12:01:08.258683Z"
        },
        "trusted": true
      },
      "source": [
        "!pip install transformers"
      ],
      "execution_count": null,
      "outputs": []
    },
    {
      "cell_type": "code",
      "metadata": {
        "id": "biological-shepherd",
        "execution": {
          "iopub.status.busy": "2021-11-12T12:01:08.263754Z",
          "iopub.execute_input": "2021-11-12T12:01:08.263976Z",
          "iopub.status.idle": "2021-11-12T12:01:14.469724Z",
          "shell.execute_reply.started": "2021-11-12T12:01:08.263949Z",
          "shell.execute_reply": "2021-11-12T12:01:14.469019Z"
        },
        "trusted": true
      },
      "source": [
        "import json\n",
        "import random\n",
        "import os\n",
        "import torch\n",
        "import numpy as np\n",
        "import pandas as pd"
      ],
      "execution_count": null,
      "outputs": []
    },
    {
      "cell_type": "code",
      "metadata": {
        "id": "jyc3Y3KwHMJr",
        "execution": {
          "iopub.status.busy": "2021-11-12T12:01:14.47735Z",
          "iopub.execute_input": "2021-11-12T12:01:14.477655Z",
          "iopub.status.idle": "2021-11-12T12:01:14.489186Z",
          "shell.execute_reply.started": "2021-11-12T12:01:14.477619Z",
          "shell.execute_reply": "2021-11-12T12:01:14.488491Z"
        },
        "trusted": true
      },
      "source": [
        "def seed_everything(seed: int = 42):\n",
        "    random.seed(seed)\n",
        "    np.random.seed(seed)\n",
        "    os.environ[\"PYTHONHASHSEED\"] = str(seed)\n",
        "    torch.manual_seed(seed)\n",
        "    torch.cuda.manual_seed(seed)  \n",
        "    torch.backends.cudnn.deterministic = True  \n",
        "    torch.backends.cudnn.benchmark = True  "
      ],
      "execution_count": null,
      "outputs": []
    },
    {
      "cell_type": "code",
      "metadata": {
        "id": "DFcjb2P1gqTP",
        "execution": {
          "iopub.status.busy": "2021-11-12T12:01:14.490403Z",
          "iopub.execute_input": "2021-11-12T12:01:14.491014Z",
          "iopub.status.idle": "2021-11-12T12:01:14.500546Z",
          "shell.execute_reply.started": "2021-11-12T12:01:14.490978Z",
          "shell.execute_reply": "2021-11-12T12:01:14.499754Z"
        },
        "trusted": true
      },
      "source": [
        "seed_everything(42)"
      ],
      "execution_count": null,
      "outputs": []
    },
    {
      "cell_type": "code",
      "metadata": {
        "id": "puDmXhxqok-C",
        "execution": {
          "iopub.status.busy": "2021-11-12T12:01:14.501747Z",
          "iopub.execute_input": "2021-11-12T12:01:14.502273Z",
          "iopub.status.idle": "2021-11-12T12:01:14.507438Z",
          "shell.execute_reply.started": "2021-11-12T12:01:14.502235Z",
          "shell.execute_reply": "2021-11-12T12:01:14.506013Z"
        },
        "trusted": true
      },
      "source": [
        "DATA_PATH = \"Your Path\"\n",
        "DATA_PATH_2 = \"Your Path\""
      ],
      "execution_count": null,
      "outputs": []
    },
    {
      "cell_type": "code",
      "metadata": {
        "id": "demonstrated-christian",
        "execution": {
          "iopub.status.busy": "2021-11-12T12:01:14.508634Z",
          "iopub.execute_input": "2021-11-12T12:01:14.509107Z",
          "iopub.status.idle": "2021-11-12T12:01:15.939972Z",
          "shell.execute_reply.started": "2021-11-12T12:01:14.509016Z",
          "shell.execute_reply": "2021-11-12T12:01:15.938741Z"
        },
        "trusted": true
      },
      "source": [
        "with open(DATA_PATH + \"train.json\", 'rb') as f:\n",
        "    data_dict = json.load(f)"
      ],
      "execution_count": null,
      "outputs": []
    },
    {
      "cell_type": "code",
      "metadata": {
        "id": "F60x-JCvZ2bD",
        "execution": {
          "iopub.status.busy": "2021-11-12T12:01:15.97455Z",
          "iopub.execute_input": "2021-11-12T12:01:15.975294Z",
          "iopub.status.idle": "2021-11-12T12:01:20.684797Z",
          "shell.execute_reply.started": "2021-11-12T12:01:15.975221Z",
          "shell.execute_reply": "2021-11-12T12:01:20.684046Z"
        },
        "trusted": true
      },
      "source": [
        "with open(DATA_PATH_2 + \"ko_nia_normal_squad_all.json\", 'rb') as f:\n",
        "    aihub_dict = json.load(f)"
      ],
      "execution_count": null,
      "outputs": []
    },
    {
      "cell_type": "code",
      "metadata": {
        "id": "collected-circuit",
        "execution": {
          "iopub.status.busy": "2021-11-12T12:01:20.692709Z",
          "iopub.execute_input": "2021-11-12T12:01:20.693025Z",
          "iopub.status.idle": "2021-11-12T12:01:20.702153Z",
          "shell.execute_reply.started": "2021-11-12T12:01:20.692987Z",
          "shell.execute_reply": "2021-11-12T12:01:20.70143Z"
        },
        "trusted": true
      },
      "source": [
        "def read_data(path):\n",
        "    with open(path, 'rb') as f:\n",
        "        data_dict = json.load(f)\n",
        "\n",
        "    categories = []\n",
        "    contexts = []\n",
        "    questions = []\n",
        "    answers = []\n",
        "    for group in tqdm(data_dict['data']):\n",
        "        category = group[\"news_category\"]  \n",
        "        \n",
        "        for passage in group['paragraphs']:\n",
        "            context = passage['context']\n",
        "            for qa in passage['qas']:\n",
        "                question = qa['question']\n",
        "                for answer in qa['answers']:\n",
        "                    contexts.append(context)\n",
        "                    questions.append(question)\n",
        "                    answers.append(answer)\n",
        "                    categories.append(category)\n",
        "  \n",
        "    return contexts, questions, answers"
      ],
      "execution_count": null,
      "outputs": []
    },
    {
      "cell_type": "code",
      "metadata": {
        "id": "academic-excitement",
        "execution": {
          "iopub.status.busy": "2021-11-12T12:01:20.703678Z",
          "iopub.execute_input": "2021-11-12T12:01:20.704003Z",
          "iopub.status.idle": "2021-11-12T12:01:20.715058Z",
          "shell.execute_reply.started": "2021-11-12T12:01:20.703944Z",
          "shell.execute_reply": "2021-11-12T12:01:20.714428Z"
        },
        "trusted": true
      },
      "source": [
        "def add_end_idx(answers, contexts):\n",
        "    for answer, context in zip(answers, contexts):\n",
        "        gold_text = answer['text']\n",
        "        start_idx = answer['answer_start']\n",
        "        end_idx = start_idx + len(gold_text)\n",
        "\n",
        "        if context[start_idx:end_idx] == gold_text:\n",
        "            answer['answer_end'] = end_idx\n",
        "        elif context[start_idx-1:end_idx-1] == gold_text:\n",
        "            answer['answer_start'] = start_idx - 1\n",
        "            answer['answer_end'] = end_idx - 1\n",
        "        elif context[start_idx-2:end_idx-2] == gold_text:\n",
        "            answer['answer_start'] = start_idx - 2\n",
        "            answer['answer_end'] = end_idx - 2"
      ],
      "execution_count": null,
      "outputs": []
    },
    {
      "cell_type": "code",
      "metadata": {
        "id": "amateur-scene",
        "execution": {
          "iopub.status.busy": "2021-11-12T12:01:20.716298Z",
          "iopub.execute_input": "2021-11-12T12:01:20.716664Z",
          "iopub.status.idle": "2021-11-12T12:01:21.01158Z",
          "shell.execute_reply.started": "2021-11-12T12:01:20.716585Z",
          "shell.execute_reply": "2021-11-12T12:01:21.010738Z"
        },
        "trusted": true
      },
      "source": [
        "mrc_contexts, mrc_questions, mrc_answers = read_data(DATA_PATH + \"train.json\")\n",
        "add_end_idx(mrc_answers, mrc_contexts)"
      ],
      "execution_count": null,
      "outputs": []
    },
    {
      "cell_type": "code",
      "metadata": {
        "id": "BBEpZQL7bR81",
        "execution": {
          "iopub.status.busy": "2021-11-12T12:01:21.013124Z",
          "iopub.execute_input": "2021-11-12T12:01:21.013444Z",
          "iopub.status.idle": "2021-11-12T12:01:24.995405Z",
          "shell.execute_reply.started": "2021-11-12T12:01:21.013405Z",
          "shell.execute_reply": "2021-11-12T12:01:24.994637Z"
        },
        "trusted": true
      },
      "source": [
        "aihub_contexts, aihub_questions, aihub_answers = read_data(DATA_PATH_2 + \"ko_nia_normal_squad_all.json\")\n",
        "add_end_idx(aihub_answers, aihub_contexts)"
      ],
      "execution_count": null,
      "outputs": []
    },
    {
      "cell_type": "code",
      "metadata": {
        "id": "2puw4Ntp7qD6",
        "execution": {
          "iopub.status.busy": "2021-11-12T12:01:24.996603Z",
          "iopub.execute_input": "2021-11-12T12:01:24.997009Z",
          "iopub.status.idle": "2021-11-12T12:01:29.039274Z",
          "shell.execute_reply.started": "2021-11-12T12:01:24.996972Z",
          "shell.execute_reply": "2021-11-12T12:01:29.038495Z"
        },
        "trusted": true
      },
      "source": [
        "short_indices = [i for i in range(len(aihub_contexts)) if len(aihub_contexts[i].split()) < 300]\n",
        "        \n",
        "aihub_contexts_short = [aihub_contexts[i] for i in short_indices]\n",
        "aihub_questions_short = [aihub_questions[i] for i in short_indices]\n",
        "aihub_answers_short = [aihub_answers[i] for i in short_indices]"
      ],
      "execution_count": null,
      "outputs": []
    },
    {
      "cell_type": "code",
      "metadata": {
        "id": "cQJbdnWN7qD7",
        "execution": {
          "iopub.status.busy": "2021-11-12T12:01:29.04489Z",
          "iopub.execute_input": "2021-11-12T12:01:29.045538Z",
          "iopub.status.idle": "2021-11-12T12:01:29.068129Z",
          "shell.execute_reply.started": "2021-11-12T12:01:29.045502Z",
          "shell.execute_reply": "2021-11-12T12:01:29.067446Z"
        },
        "trusted": true
      },
      "source": [
        "indices = list(range(20000))\n",
        "np.random.shuffle(indices)\n",
        "\n",
        "aihub_contexts_10000 = [aihub_contexts_short[i] for i in indices]\n",
        "aihub_questions_10000 = [aihub_questions_short[i] for i in indices]\n",
        "aihub_answers_10000 = [aihub_answers_short[i] for i in indices]"
      ],
      "execution_count": null,
      "outputs": []
    },
    {
      "cell_type": "code",
      "metadata": {
        "execution": {
          "iopub.status.busy": "2021-11-12T12:01:29.081271Z",
          "iopub.execute_input": "2021-11-12T12:01:29.081574Z",
          "iopub.status.idle": "2021-11-12T12:01:29.090219Z",
          "shell.execute_reply.started": "2021-11-12T12:01:29.081536Z",
          "shell.execute_reply": "2021-11-12T12:01:29.089482Z"
        },
        "trusted": true,
        "id": "iiwXcuo55Hha"
      },
      "source": [
        "train_contexts = mrc_contexts + aihub_contexts_10000\n",
        "train_questions = mrc_questions + aihub_questions_10000\n",
        "train_answers = mrc_answers + aihub_answers_10000\n",
        "\n",
        "# CustomedDataset 의 inputs"
      ],
      "execution_count": null,
      "outputs": []
    }
  ]
}