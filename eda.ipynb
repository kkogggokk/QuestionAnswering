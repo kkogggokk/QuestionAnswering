{
  "cells": [
    {
      "cell_type": "markdown",
      "id": "fxIswXZ7Mw2k",
      "metadata": {
        "id": "fxIswXZ7Mw2k"
      },
      "source": [
        "# Requirements"
      ]
    },
    {
      "cell_type": "code",
      "execution_count": null,
      "id": "ZqX1tFd2o5y4",
      "metadata": {
        "colab": {
          "base_uri": "https://localhost:8080/"
        },
        "id": "ZqX1tFd2o5y4",
        "outputId": "17c18516-9238-4967-a2b7-fdf756b334d0"
      },
      "outputs": [
        {
          "name": "stdout",
          "output_type": "stream",
          "text": [
            "Reading package lists... Done\n",
            "Building dependency tree       \n",
            "Reading state information... Done\n",
            "fonts-nanum is already the newest version (20170925-1).\n",
            "0 upgraded, 0 newly installed, 0 to remove and 37 not upgraded.\n",
            "/usr/share/fonts: caching, new cache contents: 0 fonts, 1 dirs\n",
            "/usr/share/fonts/truetype: caching, new cache contents: 0 fonts, 3 dirs\n",
            "/usr/share/fonts/truetype/humor-sans: caching, new cache contents: 1 fonts, 0 dirs\n",
            "/usr/share/fonts/truetype/liberation: caching, new cache contents: 16 fonts, 0 dirs\n",
            "/usr/share/fonts/truetype/nanum: caching, new cache contents: 10 fonts, 0 dirs\n",
            "/usr/local/share/fonts: caching, new cache contents: 0 fonts, 0 dirs\n",
            "/root/.local/share/fonts: skipping, no such directory\n",
            "/root/.fonts: skipping, no such directory\n",
            "/var/cache/fontconfig: cleaning cache directory\n",
            "/root/.cache/fontconfig: not cleaning non-existent cache directory\n",
            "/root/.fontconfig: not cleaning non-existent cache directory\n",
            "fc-cache: succeeded\n"
          ]
        }
      ],
      "source": [
        "# 네이버 나눔 폰트 설치 \n",
        "# 재시작\n",
        "!sudo apt-get install -y fonts-nanum\n",
        "!sudo fc-cache -fv\n",
        "!rm ~/.cache/matplotlib -rf"
      ]
    },
    {
      "cell_type": "code",
      "execution_count": null,
      "id": "X7lGZlCnnTLb",
      "metadata": {
        "colab": {
          "base_uri": "https://localhost:8080/"
        },
        "id": "X7lGZlCnnTLb",
        "outputId": "b5a72d71-c981-4f0d-8ef0-aefde1d833a9"
      },
      "outputs": [
        {
          "name": "stdout",
          "output_type": "stream",
          "text": [
            "Requirement already satisfied: transformers in /usr/local/lib/python3.7/dist-packages (4.12.3)\n",
            "Requirement already satisfied: pyyaml>=5.1 in /usr/local/lib/python3.7/dist-packages (from transformers) (6.0)\n",
            "Requirement already satisfied: tokenizers<0.11,>=0.10.1 in /usr/local/lib/python3.7/dist-packages (from transformers) (0.10.3)\n",
            "Requirement already satisfied: requests in /usr/local/lib/python3.7/dist-packages (from transformers) (2.23.0)\n",
            "Requirement already satisfied: sacremoses in /usr/local/lib/python3.7/dist-packages (from transformers) (0.0.46)\n",
            "Requirement already satisfied: packaging>=20.0 in /usr/local/lib/python3.7/dist-packages (from transformers) (21.0)\n",
            "Requirement already satisfied: numpy>=1.17 in /usr/local/lib/python3.7/dist-packages (from transformers) (1.19.5)\n",
            "Requirement already satisfied: tqdm>=4.27 in /usr/local/lib/python3.7/dist-packages (from transformers) (4.62.3)\n",
            "Requirement already satisfied: regex!=2019.12.17 in /usr/local/lib/python3.7/dist-packages (from transformers) (2019.12.20)\n",
            "Requirement already satisfied: importlib-metadata in /usr/local/lib/python3.7/dist-packages (from transformers) (4.8.1)\n",
            "Requirement already satisfied: huggingface-hub<1.0,>=0.1.0 in /usr/local/lib/python3.7/dist-packages (from transformers) (0.1.2)\n",
            "Requirement already satisfied: filelock in /usr/local/lib/python3.7/dist-packages (from transformers) (3.3.0)\n",
            "Requirement already satisfied: typing-extensions>=3.7.4.3 in /usr/local/lib/python3.7/dist-packages (from huggingface-hub<1.0,>=0.1.0->transformers) (3.7.4.3)\n",
            "Requirement already satisfied: pyparsing>=2.0.2 in /usr/local/lib/python3.7/dist-packages (from packaging>=20.0->transformers) (2.4.7)\n",
            "Requirement already satisfied: zipp>=0.5 in /usr/local/lib/python3.7/dist-packages (from importlib-metadata->transformers) (3.6.0)\n",
            "Requirement already satisfied: chardet<4,>=3.0.2 in /usr/local/lib/python3.7/dist-packages (from requests->transformers) (3.0.4)\n",
            "Requirement already satisfied: idna<3,>=2.5 in /usr/local/lib/python3.7/dist-packages (from requests->transformers) (2.10)\n",
            "Requirement already satisfied: urllib3!=1.25.0,!=1.25.1,<1.26,>=1.21.1 in /usr/local/lib/python3.7/dist-packages (from requests->transformers) (1.24.3)\n",
            "Requirement already satisfied: certifi>=2017.4.17 in /usr/local/lib/python3.7/dist-packages (from requests->transformers) (2021.5.30)\n",
            "Requirement already satisfied: joblib in /usr/local/lib/python3.7/dist-packages (from sacremoses->transformers) (1.0.1)\n",
            "Requirement already satisfied: six in /usr/local/lib/python3.7/dist-packages (from sacremoses->transformers) (1.15.0)\n",
            "Requirement already satisfied: click in /usr/local/lib/python3.7/dist-packages (from sacremoses->transformers) (7.1.2)\n"
          ]
        }
      ],
      "source": [
        "!pip install transformers"
      ]
    },
    {
      "cell_type": "code",
      "execution_count": null,
      "id": "biological-shepherd",
      "metadata": {
        "id": "biological-shepherd"
      },
      "outputs": [],
      "source": [
        "import json\n",
        "import random\n",
        "import os\n",
        "import torch\n",
        "import numpy as np\n",
        "import pandas as pd\n",
        "from collections import Counter\n",
        "import matplotlib.pyplot as plt\n",
        "from matplotlib.pyplot import figure\n",
        "import warnings\n",
        "from tqdm.notebook import tqdm\n",
        "from torch.utils.data import Dataset, DataLoader\n",
        "from transformers import AutoTokenizer"
      ]
    },
    {
      "cell_type": "code",
      "execution_count": null,
      "id": "CR_wXf9dpVte",
      "metadata": {
        "id": "CR_wXf9dpVte"
      },
      "outputs": [],
      "source": [
        "import matplotlib.pyplot as plt\n",
        "\n",
        "plt.rc('font', family='NanumBarunGothic') "
      ]
    },
    {
      "cell_type": "markdown",
      "id": "UCI0OGZ0jtWK",
      "metadata": {
        "id": "UCI0OGZ0jtWK"
      },
      "source": [
        "# Mount Google Drive"
      ]
    },
    {
      "cell_type": "code",
      "execution_count": null,
      "id": "wEUZ8Oc7mjna",
      "metadata": {
        "colab": {
          "base_uri": "https://localhost:8080/"
        },
        "id": "wEUZ8Oc7mjna",
        "outputId": "3cb06979-2230-45f3-c9ab-8463da31df97"
      },
      "outputs": [
        {
          "name": "stdout",
          "output_type": "stream",
          "text": [
            "Drive already mounted at /content/drive; to attempt to forcibly remount, call drive.mount(\"/content/drive\", force_remount=True).\n"
          ]
        }
      ],
      "source": [
        "from google.colab import drive\n",
        "drive.mount('/content/drive')"
      ]
    },
    {
      "cell_type": "markdown",
      "id": "certified-airfare",
      "metadata": {
        "id": "certified-airfare"
      },
      "source": [
        "# Training Data 준비 및 EDA"
      ]
    },
    {
      "cell_type": "code",
      "execution_count": null,
      "id": "puDmXhxqok-C",
      "metadata": {
        "id": "puDmXhxqok-C"
      },
      "outputs": [],
      "source": [
        "DATA_PATH = \"Your Path\""
      ]
    },
    {
      "cell_type": "code",
      "execution_count": null,
      "id": "demonstrated-christian",
      "metadata": {
        "id": "demonstrated-christian"
      },
      "outputs": [],
      "source": [
        "with open(DATA_PATH + \"train.json\", 'rb') as f:\n",
        "    data_dict = json.load(f)"
      ]
    },
    {
      "cell_type": "code",
      "execution_count": null,
      "id": "i8mXGtwZsqo_",
      "metadata": {
        "colab": {
          "base_uri": "https://localhost:8080/"
        },
        "id": "i8mXGtwZsqo_",
        "outputId": "0a205d83-55ee-446e-c623-540836abf4e5"
      },
      "outputs": [
        {
          "data": {
            "text/plain": [
              "{'news_category': '종합',\n",
              " 'paragraphs': [{'context': '올여름 장마가 17일 제주도에서 시작됐다. 서울 등 중부지방은 예년보다 사나흘 정도 늦은 이달 말께 장마가 시작될 전망이다.17일 기상청에 따르면 제주도 남쪽 먼바다에 있는 장마전선의 영향으로 이날 제주도 산간 및 내륙지역에 호우주의보가 내려지면서 곳곳에 100㎜에 육박하는 많은 비가 내렸다. 제주의 장마는 평년보다 2~3일, 지난해보다는 하루 일찍 시작됐다. 장마는 고온다습한 북태평양 기단과 한랭 습윤한 오호츠크해 기단이 만나 형성되는 장마전선에서 내리는 비를 뜻한다.장마전선은 18일 제주도 먼 남쪽 해상으로 내려갔다가 20일께 다시 북상해 전남 남해안까지 영향을 줄 것으로 보인다. 이에 따라 20~21일 남부지방에도 예년보다 사흘 정도 장마가 일찍 찾아올 전망이다. 그러나 장마전선을 밀어올리는 북태평양 고기압 세력이 약해 서울 등 중부지방은 평년보다 사나흘가량 늦은 이달 말부터 장마가 시작될 것이라는 게 기상청의 설명이다. 장마전선은 이후 한 달가량 한반도 중남부를 오르내리며 곳곳에 비를 뿌릴 전망이다. 최근 30년간 평균치에 따르면 중부지방의 장마 시작일은 6월24~25일이었으며 장마기간은 32일, 강수일수는 17.2일이었다.기상청은 올해 장마기간의 평균 강수량이 350~400㎜로 평년과 비슷하거나 적을 것으로 내다봤다. 브라질 월드컵 한국과 러시아의 경기가 열리는 18일 오전 서울은 대체로 구름이 많이 끼지만 비는 오지 않을 것으로 예상돼 거리 응원에는 지장이 없을 전망이다.',\n",
              "   'qas': [{'answers': [{'answer_start': 478, 'text': '한 달가량'},\n",
              "      {'answer_start': 478, 'text': '한 달'}],\n",
              "     'guid': '798db07f0b9046759deed9d4a35ce31e',\n",
              "     'question': '북태평양 기단과 오호츠크해 기단이 만나 국내에 머무르는 기간은?'}]}],\n",
              " 'source': 'hankyung',\n",
              " 'title': '제주도 장마 시작 … 중부는 이달 말부터'}"
            ]
          },
          "execution_count": 10,
          "metadata": {},
          "output_type": "execute_result"
        }
      ],
      "source": [
        "data_dict[\"data\"][0]"
      ]
    },
    {
      "cell_type": "code",
      "execution_count": null,
      "id": "collected-circuit",
      "metadata": {
        "id": "collected-circuit"
      },
      "outputs": [],
      "source": [
        "def read_data(path):\n",
        "    with open(path, 'rb') as f:\n",
        "        data_dict = json.load(f)\n",
        "\n",
        "    categories = [] \n",
        "    contexts = []\n",
        "    questions = []\n",
        "    answers = []\n",
        "\n",
        "    for group in tqdm(data_dict['data']):\n",
        "        category = group[\"news_category\"]  \n",
        "        \n",
        "        for passage in group['paragraphs']:\n",
        "            context = passage['context']\n",
        "\n",
        "            for qa in passage['qas']:\n",
        "                question = qa['question']\n",
        "\n",
        "                for answer in qa['answers']: \n",
        "\n",
        "                    contexts.append(context)\n",
        "                    questions.append(question)\n",
        "                    answers.append(answer)\n",
        "                    categories.append(category)\n",
        "  \n",
        "\n",
        "    return categories, contexts, questions, answers"
      ]
    },
    {
      "cell_type": "code",
      "execution_count": null,
      "id": "academic-excitement",
      "metadata": {
        "id": "academic-excitement"
      },
      "outputs": [],
      "source": [
        "def add_end_idx(answers, contexts):\n",
        "  \n",
        "    for answer, context in zip(answers, contexts):\n",
        "        gold_text = answer['text']\n",
        "        start_idx = answer['answer_start']\n",
        "\n",
        "        end_idx = start_idx + len(gold_text)\n",
        "\n",
        "        if context[start_idx:end_idx] == gold_text:\n",
        "            answer['answer_end'] = end_idx\n",
        "\n",
        "        # (아마) 띄어쓰기 고려\n",
        "        elif context[start_idx-1:end_idx-1] == gold_text:\n",
        "            answer['answer_start'] = start_idx - 1\n",
        "            answer['answer_end'] = end_idx - 1\n",
        "\n",
        "        elif context[start_idx-2:end_idx-2] == gold_text:\n",
        "            answer['answer_start'] = start_idx - 2\n",
        "            answer['answer_end'] = end_idx - 2"
      ]
    },
    {
      "cell_type": "code",
      "execution_count": null,
      "id": "amateur-scene",
      "metadata": {
        "colab": {
          "base_uri": "https://localhost:8080/",
          "height": 49,
          "referenced_widgets": [
            "a860ad4a54f9477eb169d1eb3ad30abd",
            "c8a93638c3c94e3697101c643912ece7",
            "1876c80c00b94b18ba4073ace5492211",
            "de5b4a0ea7104ba6b8ace33d9fba09a0",
            "987bab210fb94ecd8669b692419e96d5",
            "f3fc8858f2a94f1095eb9f742b2b2ebe",
            "01b0f4e2d61b4f8189052e2734603ce4",
            "cfc67b4360774a61ba3afc7c04420e6e",
            "745304763f354a1db4043e646c0a147b",
            "29817b6ac83c4d4ea4efd5689e05a34f",
            "d2a1328ba098456bb13b9bd9cedefd32"
          ]
        },
        "id": "amateur-scene",
        "outputId": "e2badef9-1c8e-4a2f-a067-b4d40791e494"
      },
      "outputs": [
        {
          "data": {
            "application/vnd.jupyter.widget-view+json": {
              "model_id": "a860ad4a54f9477eb169d1eb3ad30abd",
              "version_major": 2,
              "version_minor": 0
            },
            "text/plain": [
              "  0%|          | 0/9789 [00:00<?, ?it/s]"
            ]
          },
          "metadata": {},
          "output_type": "display_data"
        }
      ],
      "source": [
        "train_categories, train_contexts, train_questions, train_answers = read_data(DATA_PATH + \"train.json\")\n",
        "add_end_idx(train_answers, train_contexts)"
      ]
    },
    {
      "cell_type": "markdown",
      "id": "Wi9kGsI4z6-U",
      "metadata": {
        "id": "Wi9kGsI4z6-U"
      },
      "source": [
        "- tokenization 진행 전 데이터 분포"
      ]
    },
    {
      "cell_type": "code",
      "execution_count": null,
      "id": "tsbEsxTCxDyD",
      "metadata": {
        "id": "tsbEsxTCxDyD"
      },
      "outputs": [],
      "source": [
        "train_df = pd.DataFrame()\n",
        "train_df['Categories'] = train_categories\n",
        "train_df['Contexts'] = train_contexts\n",
        "train_df['Questions'] = train_questions\n",
        "train_df['Answers'] = train_answers"
      ]
    },
    {
      "cell_type": "code",
      "execution_count": null,
      "id": "Qwy5fDVKgyXD",
      "metadata": {
        "colab": {
          "base_uri": "https://localhost:8080/",
          "height": 192
        },
        "id": "Qwy5fDVKgyXD",
        "outputId": "dc0fbfc3-d4d0-4f95-d6ce-f451378a1ac3"
      },
      "outputs": [
        {
          "data": {
            "text/html": [
              "<div>\n",
              "<style scoped>\n",
              "    .dataframe tbody tr th:only-of-type {\n",
              "        vertical-align: middle;\n",
              "    }\n",
              "\n",
              "    .dataframe tbody tr th {\n",
              "        vertical-align: top;\n",
              "    }\n",
              "\n",
              "    .dataframe thead th {\n",
              "        text-align: right;\n",
              "    }\n",
              "</style>\n",
              "<table border=\"1\" class=\"dataframe\">\n",
              "  <thead>\n",
              "    <tr style=\"text-align: right;\">\n",
              "      <th></th>\n",
              "      <th>Categories</th>\n",
              "      <th>Contexts</th>\n",
              "      <th>Questions</th>\n",
              "      <th>Answers</th>\n",
              "    </tr>\n",
              "  </thead>\n",
              "  <tbody>\n",
              "    <tr>\n",
              "      <th>count</th>\n",
              "      <td>12667</td>\n",
              "      <td>17663</td>\n",
              "      <td>17663</td>\n",
              "      <td>17663</td>\n",
              "    </tr>\n",
              "    <tr>\n",
              "      <th>unique</th>\n",
              "      <td>33</td>\n",
              "      <td>10434</td>\n",
              "      <td>12037</td>\n",
              "      <td>17463</td>\n",
              "    </tr>\n",
              "    <tr>\n",
              "      <th>top</th>\n",
              "      <td>종합</td>\n",
              "      <td>신격호 롯데그룹 총괄회장(94)이 롯데그룹 경영권 분쟁과 관련해 장남인 신동주 전 ...</td>\n",
              "      <td>롯데의 경영권 후계자 임명과 관련, 신 총괄회장과의 최초 공개 인터뷰가 있었던 장소는?</td>\n",
              "      <td>{'text': '2008년', 'answer_start': 0, 'answer_e...</td>\n",
              "    </tr>\n",
              "    <tr>\n",
              "      <th>freq</th>\n",
              "      <td>2425</td>\n",
              "      <td>11</td>\n",
              "      <td>11</td>\n",
              "      <td>3</td>\n",
              "    </tr>\n",
              "  </tbody>\n",
              "</table>\n",
              "</div>"
            ],
            "text/plain": [
              "       Categories  ...                                            Answers\n",
              "count       12667  ...                                              17663\n",
              "unique         33  ...                                              17463\n",
              "top            종합  ...  {'text': '2008년', 'answer_start': 0, 'answer_e...\n",
              "freq         2425  ...                                                  3\n",
              "\n",
              "[4 rows x 4 columns]"
            ]
          },
          "execution_count": 15,
          "metadata": {},
          "output_type": "execute_result"
        }
      ],
      "source": [
        "train_df.describe(include=\"all\")"
      ]
    },
    {
      "cell_type": "code",
      "execution_count": null,
      "id": "byZcngAEg7IB",
      "metadata": {
        "colab": {
          "base_uri": "https://localhost:8080/",
          "height": 275
        },
        "id": "byZcngAEg7IB",
        "outputId": "b60f7e57-d04d-4cb9-b025-9b5963e69fba"
      },
      "outputs": [
        {
          "data": {
            "text/html": [
              "<div>\n",
              "<style scoped>\n",
              "    .dataframe tbody tr th:only-of-type {\n",
              "        vertical-align: middle;\n",
              "    }\n",
              "\n",
              "    .dataframe tbody tr th {\n",
              "        vertical-align: top;\n",
              "    }\n",
              "\n",
              "    .dataframe thead th {\n",
              "        text-align: right;\n",
              "    }\n",
              "</style>\n",
              "<table border=\"1\" class=\"dataframe\">\n",
              "  <thead>\n",
              "    <tr style=\"text-align: right;\">\n",
              "      <th></th>\n",
              "      <th>Categories</th>\n",
              "      <th>Contexts</th>\n",
              "      <th>Questions</th>\n",
              "      <th>Answers</th>\n",
              "    </tr>\n",
              "  </thead>\n",
              "  <tbody>\n",
              "    <tr>\n",
              "      <th>0</th>\n",
              "      <td>종합</td>\n",
              "      <td>올여름 장마가 17일 제주도에서 시작됐다. 서울 등 중부지방은 예년보다 사나흘 정도...</td>\n",
              "      <td>북태평양 기단과 오호츠크해 기단이 만나 국내에 머무르는 기간은?</td>\n",
              "      <td>{'text': '한 달가량', 'answer_start': 478, 'answer...</td>\n",
              "    </tr>\n",
              "    <tr>\n",
              "      <th>1</th>\n",
              "      <td>종합</td>\n",
              "      <td>올여름 장마가 17일 제주도에서 시작됐다. 서울 등 중부지방은 예년보다 사나흘 정도...</td>\n",
              "      <td>북태평양 기단과 오호츠크해 기단이 만나 국내에 머무르는 기간은?</td>\n",
              "      <td>{'text': '한 달', 'answer_start': 478, 'answer_e...</td>\n",
              "    </tr>\n",
              "    <tr>\n",
              "      <th>2</th>\n",
              "      <td>경제</td>\n",
              "      <td>부산시와 (재)부산정보산업진흥원(원장 이인숙)이 ‘2020~2021년 지역SW서비스...</td>\n",
              "      <td>지능형 생산자동화 기반기술을 개발중인 스타트업은?</td>\n",
              "      <td>{'text': '삼보테크놀로지', 'answer_start': 1422, 'ans...</td>\n",
              "    </tr>\n",
              "    <tr>\n",
              "      <th>3</th>\n",
              "      <td>None</td>\n",
              "      <td>시범 경기에서는 16이닝을 던져 15실점을 기록하는 등 성적이 좋지 않았지만 본인으...</td>\n",
              "      <td>개막전에서 3안타 2실점을 기록해서 패한 선수는?</td>\n",
              "      <td>{'text': '와쿠이 히데아키', 'answer_start': 107, 'ans...</td>\n",
              "    </tr>\n",
              "    <tr>\n",
              "      <th>4</th>\n",
              "      <td>생활경제</td>\n",
              "      <td>유명 맛집 이름을 달고 나온 편의점 자체상표(PB) 라면이 인기를 끌고 있다. ‘검...</td>\n",
              "      <td>컵라면 매출에서 불닭볶음면을 이긴 상품은?</td>\n",
              "      <td>{'text': '‘교동반점 짬뽕’', 'answer_start': 408, 'an...</td>\n",
              "    </tr>\n",
              "  </tbody>\n",
              "</table>\n",
              "</div>"
            ],
            "text/plain": [
              "  Categories  ...                                            Answers\n",
              "0         종합  ...  {'text': '한 달가량', 'answer_start': 478, 'answer...\n",
              "1         종합  ...  {'text': '한 달', 'answer_start': 478, 'answer_e...\n",
              "2         경제  ...  {'text': '삼보테크놀로지', 'answer_start': 1422, 'ans...\n",
              "3       None  ...  {'text': '와쿠이 히데아키', 'answer_start': 107, 'ans...\n",
              "4       생활경제  ...  {'text': '‘교동반점 짬뽕’', 'answer_start': 408, 'an...\n",
              "\n",
              "[5 rows x 4 columns]"
            ]
          },
          "execution_count": 16,
          "metadata": {},
          "output_type": "execute_result"
        }
      ],
      "source": [
        "train_df.head()"
      ]
    },
    {
      "cell_type": "markdown",
      "id": "uwampedAkUpb",
      "metadata": {
        "id": "uwampedAkUpb"
      },
      "source": [
        "## 중복"
      ]
    },
    {
      "cell_type": "code",
      "execution_count": null,
      "id": "TByMfKukhudO",
      "metadata": {
        "colab": {
          "base_uri": "https://localhost:8080/",
          "height": 275
        },
        "id": "TByMfKukhudO",
        "outputId": "938924e2-9cc1-45f3-b125-48f7016ab855"
      },
      "outputs": [
        {
          "data": {
            "text/html": [
              "<div>\n",
              "<style scoped>\n",
              "    .dataframe tbody tr th:only-of-type {\n",
              "        vertical-align: middle;\n",
              "    }\n",
              "\n",
              "    .dataframe tbody tr th {\n",
              "        vertical-align: top;\n",
              "    }\n",
              "\n",
              "    .dataframe thead th {\n",
              "        text-align: right;\n",
              "    }\n",
              "</style>\n",
              "<table border=\"1\" class=\"dataframe\">\n",
              "  <thead>\n",
              "    <tr style=\"text-align: right;\">\n",
              "      <th></th>\n",
              "      <th>Categories</th>\n",
              "      <th>Contexts</th>\n",
              "      <th>Questions</th>\n",
              "      <th>Answers</th>\n",
              "    </tr>\n",
              "  </thead>\n",
              "  <tbody>\n",
              "    <tr>\n",
              "      <th>0</th>\n",
              "      <td>종합</td>\n",
              "      <td>올여름 장마가 17일 제주도에서 시작됐다. 서울 등 중부지방은 예년보다 사나흘 정도...</td>\n",
              "      <td>북태평양 기단과 오호츠크해 기단이 만나 국내에 머무르는 기간은?</td>\n",
              "      <td>{'text': '한 달가량', 'answer_start': 478, 'answer...</td>\n",
              "    </tr>\n",
              "    <tr>\n",
              "      <th>1</th>\n",
              "      <td>종합</td>\n",
              "      <td>올여름 장마가 17일 제주도에서 시작됐다. 서울 등 중부지방은 예년보다 사나흘 정도...</td>\n",
              "      <td>북태평양 기단과 오호츠크해 기단이 만나 국내에 머무르는 기간은?</td>\n",
              "      <td>{'text': '한 달', 'answer_start': 478, 'answer_e...</td>\n",
              "    </tr>\n",
              "    <tr>\n",
              "      <th>2</th>\n",
              "      <td>경제</td>\n",
              "      <td>부산시와 (재)부산정보산업진흥원(원장 이인숙)이 ‘2020~2021년 지역SW서비스...</td>\n",
              "      <td>지능형 생산자동화 기반기술을 개발중인 스타트업은?</td>\n",
              "      <td>{'text': '삼보테크놀로지', 'answer_start': 1422, 'ans...</td>\n",
              "    </tr>\n",
              "    <tr>\n",
              "      <th>3</th>\n",
              "      <td>None</td>\n",
              "      <td>시범 경기에서는 16이닝을 던져 15실점을 기록하는 등 성적이 좋지 않았지만 본인으...</td>\n",
              "      <td>개막전에서 3안타 2실점을 기록해서 패한 선수는?</td>\n",
              "      <td>{'text': '와쿠이 히데아키', 'answer_start': 107, 'ans...</td>\n",
              "    </tr>\n",
              "    <tr>\n",
              "      <th>4</th>\n",
              "      <td>생활경제</td>\n",
              "      <td>유명 맛집 이름을 달고 나온 편의점 자체상표(PB) 라면이 인기를 끌고 있다. ‘검...</td>\n",
              "      <td>컵라면 매출에서 불닭볶음면을 이긴 상품은?</td>\n",
              "      <td>{'text': '‘교동반점 짬뽕’', 'answer_start': 408, 'an...</td>\n",
              "    </tr>\n",
              "  </tbody>\n",
              "</table>\n",
              "</div>"
            ],
            "text/plain": [
              "  Categories  ...                                            Answers\n",
              "0         종합  ...  {'text': '한 달가량', 'answer_start': 478, 'answer...\n",
              "1         종합  ...  {'text': '한 달', 'answer_start': 478, 'answer_e...\n",
              "2         경제  ...  {'text': '삼보테크놀로지', 'answer_start': 1422, 'ans...\n",
              "3       None  ...  {'text': '와쿠이 히데아키', 'answer_start': 107, 'ans...\n",
              "4       생활경제  ...  {'text': '‘교동반점 짬뽕’', 'answer_start': 408, 'an...\n",
              "\n",
              "[5 rows x 4 columns]"
            ]
          },
          "execution_count": 17,
          "metadata": {},
          "output_type": "execute_result"
        }
      ],
      "source": [
        "Answers_str = train_df['Answers'].apply(str)\n",
        "temp_train_df = train_df.copy()\n",
        "temp_train_df[\"Answers\"] = Answers_str\n",
        "temp_train_df.head()"
      ]
    },
    {
      "cell_type": "code",
      "execution_count": null,
      "id": "LqRt6zkekWLD",
      "metadata": {
        "colab": {
          "base_uri": "https://localhost:8080/",
          "height": 553
        },
        "id": "LqRt6zkekWLD",
        "outputId": "c487ddbd-9dc6-4080-b6ee-f18a6931c41d"
      },
      "outputs": [
        {
          "name": "stdout",
          "output_type": "stream",
          "text": [
            "10\n"
          ]
        },
        {
          "data": {
            "text/html": [
              "<div>\n",
              "<style scoped>\n",
              "    .dataframe tbody tr th:only-of-type {\n",
              "        vertical-align: middle;\n",
              "    }\n",
              "\n",
              "    .dataframe tbody tr th {\n",
              "        vertical-align: top;\n",
              "    }\n",
              "\n",
              "    .dataframe thead th {\n",
              "        text-align: right;\n",
              "    }\n",
              "</style>\n",
              "<table border=\"1\" class=\"dataframe\">\n",
              "  <thead>\n",
              "    <tr style=\"text-align: right;\">\n",
              "      <th></th>\n",
              "      <th>Categories</th>\n",
              "      <th>Contexts</th>\n",
              "      <th>Questions</th>\n",
              "      <th>Answers</th>\n",
              "    </tr>\n",
              "  </thead>\n",
              "  <tbody>\n",
              "    <tr>\n",
              "      <th>10923</th>\n",
              "      <td>기획</td>\n",
              "      <td>‘기업공개(IPO) 수 105건, 조달금액 7억3100만유로(약 1조900억원).’...</td>\n",
              "      <td>자기자본을 가지고 금융거래하는 것을 막은 미국의 법안은?</td>\n",
              "      <td>{'text': '한국경제신문', 'answer_start': 288, 'answe...</td>\n",
              "    </tr>\n",
              "    <tr>\n",
              "      <th>10924</th>\n",
              "      <td>기획</td>\n",
              "      <td>‘기업공개(IPO) 수 105건, 조달금액 7억3100만유로(약 1조900억원).’...</td>\n",
              "      <td>자기자본을 가지고 금융거래하는 것을 막은 미국의 법안은?</td>\n",
              "      <td>{'text': '한국경제신문', 'answer_start': 288, 'answe...</td>\n",
              "    </tr>\n",
              "    <tr>\n",
              "      <th>14464</th>\n",
              "      <td>None</td>\n",
              "      <td>중동신도시(中洞新都市)는 경기도 부천시 중동, 상동 일대에 조성된 신도시이다. 중동...</td>\n",
              "      <td>중동신도시 개발에 기관 몇 곳이 적극적으로 뛰어들었나?</td>\n",
              "      <td>{'text': '3', 'answer_start': 386, 'answer_end...</td>\n",
              "    </tr>\n",
              "    <tr>\n",
              "      <th>14466</th>\n",
              "      <td>None</td>\n",
              "      <td>중동신도시(中洞新都市)는 경기도 부천시 중동, 상동 일대에 조성된 신도시이다. 중동...</td>\n",
              "      <td>중동신도시 개발에 기관 몇 곳이 적극적으로 뛰어들었나?</td>\n",
              "      <td>{'text': '3', 'answer_start': 386, 'answer_end...</td>\n",
              "    </tr>\n",
              "    <tr>\n",
              "      <th>1403</th>\n",
              "      <td>금융</td>\n",
              "      <td>직장인 H씨는 연말에 받는 1000만원가량의 성과급과 만기가 된 적금 2500만원을...</td>\n",
              "      <td>지방은행이 특별판매를 하는 이유는?</td>\n",
              "      <td>{'text': '연말에 만기가 돌아오는 예금 가입자들을 유치하기 위해서', 'an...</td>\n",
              "    </tr>\n",
              "    <tr>\n",
              "      <th>1406</th>\n",
              "      <td>금융</td>\n",
              "      <td>직장인 H씨는 연말에 받는 1000만원가량의 성과급과 만기가 된 적금 2500만원을...</td>\n",
              "      <td>지방은행이 특별판매를 하는 이유는?</td>\n",
              "      <td>{'text': '연말에 만기가 돌아오는 예금 가입자들을 유치하기 위해서', 'an...</td>\n",
              "    </tr>\n",
              "    <tr>\n",
              "      <th>11140</th>\n",
              "      <td>산업</td>\n",
              "      <td>코오롱그룹 IT서비스 전문기업 코오롱베니트(대표 이진용)가 오는 20일부터 24일까...</td>\n",
              "      <td>Smart Construction &amp; IoT의 현황과 전망'을 주제로한 솔루션 구축...</td>\n",
              "      <td>{'text': '20일', 'answer_start': 36, 'answer_en...</td>\n",
              "    </tr>\n",
              "    <tr>\n",
              "      <th>11142</th>\n",
              "      <td>산업</td>\n",
              "      <td>코오롱그룹 IT서비스 전문기업 코오롱베니트(대표 이진용)가 오는 20일부터 24일까...</td>\n",
              "      <td>Smart Construction &amp; IoT의 현황과 전망'을 주제로한 솔루션 구축...</td>\n",
              "      <td>{'text': '20일', 'answer_start': 36, 'answer_en...</td>\n",
              "    </tr>\n",
              "    <tr>\n",
              "      <th>1260</th>\n",
              "      <td>None</td>\n",
              "      <td>흑표당은 스토클리 카마이클이 주도하는 학생 비폭력 협력회와 합병되었다. 1968년 ...</td>\n",
              "      <td>흑표당이 실현하고자 했던 말콤X의 사상은?</td>\n",
              "      <td>{'text': '자기방어 철학', 'answer_start': 281, 'answ...</td>\n",
              "    </tr>\n",
              "    <tr>\n",
              "      <th>1262</th>\n",
              "      <td>None</td>\n",
              "      <td>흑표당은 스토클리 카마이클이 주도하는 학생 비폭력 협력회와 합병되었다. 1968년 ...</td>\n",
              "      <td>흑표당이 실현하고자 했던 말콤X의 사상은?</td>\n",
              "      <td>{'text': '자기방어 철학', 'answer_start': 281, 'answ...</td>\n",
              "    </tr>\n",
              "  </tbody>\n",
              "</table>\n",
              "</div>"
            ],
            "text/plain": [
              "      Categories  ...                                            Answers\n",
              "10923         기획  ...  {'text': '한국경제신문', 'answer_start': 288, 'answe...\n",
              "10924         기획  ...  {'text': '한국경제신문', 'answer_start': 288, 'answe...\n",
              "14464       None  ...  {'text': '3', 'answer_start': 386, 'answer_end...\n",
              "14466       None  ...  {'text': '3', 'answer_start': 386, 'answer_end...\n",
              "1403          금융  ...  {'text': '연말에 만기가 돌아오는 예금 가입자들을 유치하기 위해서', 'an...\n",
              "1406          금융  ...  {'text': '연말에 만기가 돌아오는 예금 가입자들을 유치하기 위해서', 'an...\n",
              "11140         산업  ...  {'text': '20일', 'answer_start': 36, 'answer_en...\n",
              "11142         산업  ...  {'text': '20일', 'answer_start': 36, 'answer_en...\n",
              "1260        None  ...  {'text': '자기방어 철학', 'answer_start': 281, 'answ...\n",
              "1262        None  ...  {'text': '자기방어 철학', 'answer_start': 281, 'answ...\n",
              "\n",
              "[10 rows x 4 columns]"
            ]
          },
          "execution_count": 18,
          "metadata": {},
          "output_type": "execute_result"
        }
      ],
      "source": [
        "print(len(temp_train_df[temp_train_df.duplicated(keep=False)].sort_values(\"Contexts\")))\n",
        "temp_train_df[temp_train_df.duplicated(keep=False)].sort_values(\"Contexts\")"
      ]
    },
    {
      "cell_type": "markdown",
      "id": "1VRRb0suR-4l",
      "metadata": {
        "id": "1VRRb0suR-4l"
      },
      "source": [
        "## 비슷한 의미의 Question"
      ]
    },
    {
      "cell_type": "code",
      "execution_count": null,
      "id": "p3W7ID5Twsgv",
      "metadata": {
        "colab": {
          "base_uri": "https://localhost:8080/",
          "height": 595
        },
        "id": "p3W7ID5Twsgv",
        "outputId": "e1668947-75b9-4762-f681-79cdc22127d5"
      },
      "outputs": [
        {
          "data": {
            "text/html": [
              "<div>\n",
              "<style scoped>\n",
              "    .dataframe tbody tr th:only-of-type {\n",
              "        vertical-align: middle;\n",
              "    }\n",
              "\n",
              "    .dataframe tbody tr th {\n",
              "        vertical-align: top;\n",
              "    }\n",
              "\n",
              "    .dataframe thead th {\n",
              "        text-align: right;\n",
              "    }\n",
              "</style>\n",
              "<table border=\"1\" class=\"dataframe\">\n",
              "  <thead>\n",
              "    <tr style=\"text-align: right;\">\n",
              "      <th></th>\n",
              "      <th>Categories</th>\n",
              "      <th>Contexts</th>\n",
              "      <th>Questions</th>\n",
              "      <th>Answers</th>\n",
              "    </tr>\n",
              "  </thead>\n",
              "  <tbody>\n",
              "    <tr>\n",
              "      <th>15074</th>\n",
              "      <td>None</td>\n",
              "      <td>\"시간이동\"은 미국의 방송사 ABC의 텔레비전 드라마 시리즈 로스트의 시즌 프리미어...</td>\n",
              "      <td>ABC에서 방영되는 '시간이동'의 장르는?</td>\n",
              "      <td>{'text': '텔레비전 드라마', 'answer_start': 21, 'answ...</td>\n",
              "    </tr>\n",
              "    <tr>\n",
              "      <th>15075</th>\n",
              "      <td>None</td>\n",
              "      <td>\"시간이동\"은 미국의 방송사 ABC의 텔레비전 드라마 시리즈 로스트의 시즌 프리미어...</td>\n",
              "      <td>ABC에서 방영되는 '시간이동'의 장르는?</td>\n",
              "      <td>{'text': '드라마', 'answer_start': 26, 'answer_en...</td>\n",
              "    </tr>\n",
              "    <tr>\n",
              "      <th>14154</th>\n",
              "      <td>None</td>\n",
              "      <td>\"아자르야\"라는 이름은 \"여호와는 나의 힘이다\"라는 의미를 가지고 있다. 예루살렘 ...</td>\n",
              "      <td>아자르야에게 패배한 아랍인들의 거주지 중 아자르야가 새롭게 성을 쌓은 지역은 어디인가?</td>\n",
              "      <td>{'text': '팔레스타인', 'answer_start': 189, 'answer...</td>\n",
              "    </tr>\n",
              "    <tr>\n",
              "      <th>14153</th>\n",
              "      <td>None</td>\n",
              "      <td>\"아자르야\"라는 이름은 \"여호와는 나의 힘이다\"라는 의미를 가지고 있다. 예루살렘 ...</td>\n",
              "      <td>아자르야에게 패배한 아랍인들의 거주지 중 아자르야가 새롭게 성을 쌓은 지역은 어디인가?</td>\n",
              "      <td>{'text': '블레셋(팔레스타인) 지역', 'answer_start': 185,...</td>\n",
              "    </tr>\n",
              "    <tr>\n",
              "      <th>14152</th>\n",
              "      <td>None</td>\n",
              "      <td>\"아자르야\"라는 이름은 \"여호와는 나의 힘이다\"라는 의미를 가지고 있다. 예루살렘 ...</td>\n",
              "      <td>아자르야에게 패배한 아랍인들의 거주지 중 아자르야가 새롭게 성을 쌓은 지역은 어디인가?</td>\n",
              "      <td>{'text': '블레셋(팔레스타인)', 'answer_start': 185, 'a...</td>\n",
              "    </tr>\n",
              "    <tr>\n",
              "      <th>...</th>\n",
              "      <td>...</td>\n",
              "      <td>...</td>\n",
              "      <td>...</td>\n",
              "      <td>...</td>\n",
              "    </tr>\n",
              "    <tr>\n",
              "      <th>4350</th>\n",
              "      <td>None</td>\n",
              "      <td>힐은 전쟁중에 논쟁을 피하지 못했다. 병약한 체질이라서 여러 번 병치레를 했기에, ...</td>\n",
              "      <td>남군의 소장들 중 힐이 가장 뛰어난 사람이라고 언급한 인물은?</td>\n",
              "      <td>{'text': '로버트 E. 리', 'answer_start': 820, 'ans...</td>\n",
              "    </tr>\n",
              "    <tr>\n",
              "      <th>9612</th>\n",
              "      <td>경제</td>\n",
              "      <td>＃1. 중국 항저우에 사는 진옌 씨(37)는 다음달 춘제(春節·중국 설) 연휴에 부...</td>\n",
              "      <td>현재 중국인 관광객이 한국을 재방문하는 비율은 약 몇 %인가요?</td>\n",
              "      <td>{'text': '30', 'answer_start': 1092, 'answer_e...</td>\n",
              "    </tr>\n",
              "    <tr>\n",
              "      <th>9611</th>\n",
              "      <td>경제</td>\n",
              "      <td>＃1. 중국 항저우에 사는 진옌 씨(37)는 다음달 춘제(春節·중국 설) 연휴에 부...</td>\n",
              "      <td>현재 중국인 관광객이 한국을 재방문하는 비율은 약 몇 %인가요?</td>\n",
              "      <td>{'text': '30%', 'answer_start': 1092, 'answer_...</td>\n",
              "    </tr>\n",
              "    <tr>\n",
              "      <th>9610</th>\n",
              "      <td>경제</td>\n",
              "      <td>＃1. 중국 항저우에 사는 진옌 씨(37)는 다음달 춘제(春節·중국 설) 연휴에 부...</td>\n",
              "      <td>일본이 최근 취한 비자완화 조치 대상이 되는 유커는?</td>\n",
              "      <td>{'text': '상당한 고소득자와 그 가족', 'answer_start': 870...</td>\n",
              "    </tr>\n",
              "    <tr>\n",
              "      <th>9609</th>\n",
              "      <td>경제</td>\n",
              "      <td>＃1. 중국 항저우에 사는 진옌 씨(37)는 다음달 춘제(春節·중국 설) 연휴에 부...</td>\n",
              "      <td>일본이 최근 취한 비자완화 조치 대상이 되는 유커는?</td>\n",
              "      <td>{'text': '‘상당한 고소득자와 그 가족’', 'answer_start': 8...</td>\n",
              "    </tr>\n",
              "  </tbody>\n",
              "</table>\n",
              "<p>10034 rows × 4 columns</p>\n",
              "</div>"
            ],
            "text/plain": [
              "      Categories  ...                                            Answers\n",
              "15074       None  ...  {'text': '텔레비전 드라마', 'answer_start': 21, 'answ...\n",
              "15075       None  ...  {'text': '드라마', 'answer_start': 26, 'answer_en...\n",
              "14154       None  ...  {'text': '팔레스타인', 'answer_start': 189, 'answer...\n",
              "14153       None  ...  {'text': '블레셋(팔레스타인) 지역', 'answer_start': 185,...\n",
              "14152       None  ...  {'text': '블레셋(팔레스타인)', 'answer_start': 185, 'a...\n",
              "...          ...  ...                                                ...\n",
              "4350        None  ...  {'text': '로버트 E. 리', 'answer_start': 820, 'ans...\n",
              "9612          경제  ...  {'text': '30', 'answer_start': 1092, 'answer_e...\n",
              "9611          경제  ...  {'text': '30%', 'answer_start': 1092, 'answer_...\n",
              "9610          경제  ...  {'text': '상당한 고소득자와 그 가족', 'answer_start': 870...\n",
              "9609          경제  ...  {'text': '‘상당한 고소득자와 그 가족’', 'answer_start': 8...\n",
              "\n",
              "[10034 rows x 4 columns]"
            ]
          },
          "execution_count": 19,
          "metadata": {},
          "output_type": "execute_result"
        }
      ],
      "source": [
        "temp_train_df[temp_train_df.duplicated([\"Questions\"],keep=False)].sort_values(\"Contexts\")"
      ]
    },
    {
      "cell_type": "markdown",
      "id": "dtW4eOFFRXt3",
      "metadata": {
        "id": "dtW4eOFFRXt3"
      },
      "source": [
        "## Domain Distribution"
      ]
    },
    {
      "cell_type": "code",
      "execution_count": null,
      "id": "Cp7vtRMOsxXn",
      "metadata": {
        "id": "Cp7vtRMOsxXn"
      },
      "outputs": [],
      "source": [
        "category_df = temp_train_df['Categories'].value_counts().rename_axis('unique_values').reset_index(name='counts')"
      ]
    },
    {
      "cell_type": "code",
      "execution_count": null,
      "id": "2v6VjH4xr8yd",
      "metadata": {
        "colab": {
          "base_uri": "https://localhost:8080/",
          "height": 205
        },
        "id": "2v6VjH4xr8yd",
        "outputId": "837ffe3b-6e82-43d7-8d41-b117e0d6f1ab"
      },
      "outputs": [
        {
          "data": {
            "text/html": [
              "<div>\n",
              "<style scoped>\n",
              "    .dataframe tbody tr th:only-of-type {\n",
              "        vertical-align: middle;\n",
              "    }\n",
              "\n",
              "    .dataframe tbody tr th {\n",
              "        vertical-align: top;\n",
              "    }\n",
              "\n",
              "    .dataframe thead th {\n",
              "        text-align: right;\n",
              "    }\n",
              "</style>\n",
              "<table border=\"1\" class=\"dataframe\">\n",
              "  <thead>\n",
              "    <tr style=\"text-align: right;\">\n",
              "      <th></th>\n",
              "      <th>unique_values</th>\n",
              "      <th>counts</th>\n",
              "    </tr>\n",
              "  </thead>\n",
              "  <tbody>\n",
              "    <tr>\n",
              "      <th>0</th>\n",
              "      <td>종합</td>\n",
              "      <td>2425</td>\n",
              "    </tr>\n",
              "    <tr>\n",
              "      <th>1</th>\n",
              "      <td>사회</td>\n",
              "      <td>945</td>\n",
              "    </tr>\n",
              "    <tr>\n",
              "      <th>2</th>\n",
              "      <td>산업섹션</td>\n",
              "      <td>789</td>\n",
              "    </tr>\n",
              "    <tr>\n",
              "      <th>3</th>\n",
              "      <td>국제</td>\n",
              "      <td>781</td>\n",
              "    </tr>\n",
              "    <tr>\n",
              "      <th>4</th>\n",
              "      <td>부동산</td>\n",
              "      <td>755</td>\n",
              "    </tr>\n",
              "  </tbody>\n",
              "</table>\n",
              "</div>"
            ],
            "text/plain": [
              "  unique_values  counts\n",
              "0            종합    2425\n",
              "1            사회     945\n",
              "2          산업섹션     789\n",
              "3            국제     781\n",
              "4           부동산     755"
            ]
          },
          "execution_count": 21,
          "metadata": {},
          "output_type": "execute_result"
        }
      ],
      "source": [
        "category_df.head()"
      ]
    },
    {
      "cell_type": "code",
      "execution_count": null,
      "id": "w2AVRv-Wnfj5",
      "metadata": {
        "colab": {
          "base_uri": "https://localhost:8080/",
          "height": 509
        },
        "id": "w2AVRv-Wnfj5",
        "outputId": "a95da9e9-a812-4d9b-aa1a-42ff028e0d56"
      },
      "outputs": [
        {
          "data": {
            "image/png": "[encoded data removed]",
            "text/plain": [
              "<Figure size 720x540 with 1 Axes>"
            ]
          },
          "metadata": {
            "needs_background": "light"
          },
          "output_type": "display_data"
        }
      ],
      "source": [
        "warnings.filterwarnings(\"ignore\")\n",
        "figure(figsize=(8, 6), dpi=90)\n",
        "plt.bar(category_df.unique_values, category_df.counts)\n",
        "plt.xticks(rotation=90)\n",
        "plt.show()"
      ]
    },
    {
      "cell_type": "markdown",
      "id": "mIrV5ICcjemq",
      "metadata": {
        "id": "mIrV5ICcjemq"
      },
      "source": [
        "## 문장 길이"
      ]
    },
    {
      "cell_type": "markdown",
      "id": "9mOYQ3mZkyT-",
      "metadata": {
        "id": "9mOYQ3mZkyT-"
      },
      "source": [
        "### Contexts"
      ]
    },
    {
      "cell_type": "code",
      "execution_count": null,
      "id": "UQuu76lAstDD",
      "metadata": {
        "id": "UQuu76lAstDD"
      },
      "outputs": [],
      "source": [
        "def get_length(df):\n",
        "  context_list = []\n",
        "  question_list = []\n",
        "  context_question_list = []\n",
        "  answer_list = []\n",
        "\n",
        "  for _, row in train_df.iterrows():\n",
        "    context_len = len(row.Contexts)\n",
        "    question_len = len(row.Questions)\n",
        "\n",
        "    context_list.append(context_len)\n",
        "    question_list.append(question_len)\n",
        "    context_question_list.append(context_len + question_len)\n",
        "\n",
        "    try:\n",
        "      answer_length = len(row.Answers[\"text\"])\n",
        "      answer_list.append(answer_length)\n",
        "\n",
        "    except: \n",
        "      pass\n",
        "\n",
        "  return context_list, question_list, context_question_list, answer_list"
      ]
    },
    {
      "cell_type": "code",
      "execution_count": null,
      "id": "3q3k2QU2tDQe",
      "metadata": {
        "id": "3q3k2QU2tDQe"
      },
      "outputs": [],
      "source": [
        "train_context_list, train_question_list, train_context_question_list, train_answer_list = get_length(train_df)"
      ]
    },
    {
      "cell_type": "code",
      "execution_count": null,
      "id": "wHPuKgSAkzwj",
      "metadata": {
        "colab": {
          "base_uri": "https://localhost:8080/",
          "height": 294
        },
        "id": "wHPuKgSAkzwj",
        "outputId": "87924bb2-6dd8-4058-b41a-5a17beda5f79"
      },
      "outputs": [
        {
          "data": {
            "image/png": "[encoded data removed]",
            "text/plain": [
              "<Figure size 432x288 with 1 Axes>"
            ]
          },
          "metadata": {
            "needs_background": "light"
          },
          "output_type": "display_data"
        }
      ],
      "source": [
        "n, bins, patches=plt.hist(train_context_list)\n",
        "plt.xlabel(\"Context Length\")\n",
        "plt.ylabel(\"Frequency\")\n",
        "plt.title(\"Histogram\")\n",
        "plt.show()"
      ]
    },
    {
      "cell_type": "markdown",
      "id": "Z_fgVJFmnxxr",
      "metadata": {
        "id": "Z_fgVJFmnxxr"
      },
      "source": [
        "### Questions"
      ]
    },
    {
      "cell_type": "code",
      "execution_count": null,
      "id": "fLRBn02Vn1gZ",
      "metadata": {
        "colab": {
          "base_uri": "https://localhost:8080/",
          "height": 294
        },
        "id": "fLRBn02Vn1gZ",
        "outputId": "e279cbfb-4a2c-4c86-b866-b7a3ecd71eac"
      },
      "outputs": [
        {
          "data": {
            "image/png": "[encoded data removed]",
            "text/plain": [
              "<Figure size 432x288 with 1 Axes>"
            ]
          },
          "metadata": {
            "needs_background": "light"
          },
          "output_type": "display_data"
        }
      ],
      "source": [
        "n, bins, patches=plt.hist(train_question_list)\n",
        "plt.xlabel(\"Question Length\")\n",
        "plt.ylabel(\"Frequency\")\n",
        "plt.title(\"Histogram\")\n",
        "plt.show()"
      ]
    },
    {
      "cell_type": "markdown",
      "id": "IqsiRFNaoN4F",
      "metadata": {
        "id": "IqsiRFNaoN4F"
      },
      "source": [
        "### Contexts + Questions"
      ]
    },
    {
      "cell_type": "code",
      "execution_count": null,
      "id": "GeUXWBlHsY51",
      "metadata": {
        "colab": {
          "base_uri": "https://localhost:8080/",
          "height": 294
        },
        "id": "GeUXWBlHsY51",
        "outputId": "f6b3e999-d3bf-4cb4-a3e1-40b37c5507fb"
      },
      "outputs": [
        {
          "data": {
            "image/png": "[encoded data removed]",
            "text/plain": [
              "<Figure size 432x288 with 1 Axes>"
            ]
          },
          "metadata": {
            "needs_background": "light"
          },
          "output_type": "display_data"
        }
      ],
      "source": [
        "n, bins, patches=plt.hist(train_context_question_list)\n",
        "plt.xlabel(\"Context + Question Length\")\n",
        "plt.ylabel(\"Frequency\")\n",
        "plt.title(\"Histogram\")\n",
        "plt.show()"
      ]
    },
    {
      "cell_type": "markdown",
      "id": "0oobDYtLsmM3",
      "metadata": {
        "id": "0oobDYtLsmM3"
      },
      "source": [
        "### Answers"
      ]
    },
    {
      "cell_type": "code",
      "execution_count": null,
      "id": "vG2CLtPPsdcx",
      "metadata": {
        "colab": {
          "base_uri": "https://localhost:8080/",
          "height": 294
        },
        "id": "vG2CLtPPsdcx",
        "outputId": "469bd494-0b70-4232-ea3a-e58a1d58a861"
      },
      "outputs": [
        {
          "data": {
            "image/png": "[encoded data removed]",
            "text/plain": [
              "<Figure size 432x288 with 1 Axes>"
            ]
          },
          "metadata": {
            "needs_background": "light"
          },
          "output_type": "display_data"
        }
      ],
      "source": [
        "n, bins, patches=plt.hist(train_answer_list, bins=50, log=True, range=[0,100])\n",
        "plt.xlabel(\"Answer Length\")\n",
        "plt.ylabel(\"Frequency\")\n",
        "plt.title(\"Histogram\")\n",
        "plt.show()"
      ]
    },
    {
      "cell_type": "markdown",
      "id": "YwwK07dAnOcb",
      "metadata": {
        "id": "YwwK07dAnOcb"
      },
      "source": [
        "# 전처리 "
      ]
    },
    {
      "cell_type": "code",
      "execution_count": null,
      "id": "ecological-catering",
      "metadata": {
        "id": "ecological-catering"
      },
      "outputs": [],
      "source": [
        "tokenizer = AutoTokenizer.from_pretrained(\"klue/bert-base\")"
      ]
    },
    {
      "cell_type": "code",
      "execution_count": null,
      "id": "1e6TbQshx58x",
      "metadata": {
        "id": "1e6TbQshx58x"
      },
      "outputs": [],
      "source": [
        "pretrained_vocabs = tokenizer.get_vocab()"
      ]
    },
    {
      "cell_type": "code",
      "execution_count": null,
      "id": "6wAxPl9zyoiw",
      "metadata": {
        "colab": {
          "base_uri": "https://localhost:8080/"
        },
        "id": "6wAxPl9zyoiw",
        "outputId": "a9e0714b-f420-487c-e40a-1372fe3166fd"
      },
      "outputs": [
        {
          "data": {
            "text/plain": [
              "{'[PAD]': 0,\n",
              " '[UNK]': 1,\n",
              " '[CLS]': 2,\n",
              " '[SEP]': 3,\n",
              " '[MASK]': 4,\n",
              " '!': 5,\n",
              " '\"': 6,\n",
              " '#': 7,\n",
              " '$': 8,\n",
              " '%': 9,\n",
              " '&': 10,\n",
              " \"'\": 11,\n",
              " '(': 12,\n",
              " ')': 13,\n",
              " '*': 14,\n",
              " '+': 15,\n",
              " ',': 16,\n",
              " '-': 17,\n",
              " '.': 18,\n",
              " '/': 19,\n",
              " '0': 20,\n",
              " '1': 21,\n",
              " '2': 22,\n",
              " '3': 23,\n",
              " '4': 24,\n",
              " '5': 25,\n",
              " '6': 26,\n",
              " '7': 27,\n",
              " '8': 28,\n",
              " '9': 29,\n",
              " ':': 30,\n",
              " ';': 31,\n",
              " '<': 32,\n",
              " '=': 33,\n",
              " '>': 34,\n",
              " '?': 35,\n",
              " '@': 36,\n",
              " 'A': 37,\n",
              " 'B': 38,\n",
              " 'C': 39,\n",
              " 'D': 40,\n",
              " 'E': 41,\n",
              " 'F': 42,\n",
              " 'G': 43,\n",
              " 'H': 44,\n",
              " 'I': 45,\n",
              " 'J': 46,\n",
              " 'K': 47,\n",
              " 'L': 48,\n",
              " 'M': 49,\n",
              " 'N': 50,\n",
              " 'O': 51,\n",
              " 'P': 52,\n",
              " 'Q': 53,\n",
              " 'R': 54,\n",
              " 'S': 55,\n",
              " 'T': 56,\n",
              " 'U': 57,\n",
              " 'V': 58,\n",
              " 'W': 59,\n",
              " 'X': 60,\n",
              " 'Y': 61,\n",
              " 'Z': 62,\n",
              " '[': 63,\n",
              " ']': 64,\n",
              " '^': 65,\n",
              " '_': 66,\n",
              " '`': 67,\n",
              " 'a': 68,\n",
              " 'b': 69,\n",
              " 'c': 70,\n",
              " 'd': 71,\n",
              " 'e': 72,\n",
              " 'f': 73,\n",
              " 'g': 74,\n",
              " 'h': 75,\n",
              " 'i': 76,\n",
              " 'j': 77,\n",
              " 'k': 78,\n",
              " 'l': 79,\n",
              " 'm': 80,\n",
              " 'n': 81,\n",
              " 'o': 82,\n",
              " 'p': 83,\n",
              " 'q': 84,\n",
              " 'r': 85,\n",
              " 's': 86,\n",
              " 't': 87,\n",
              " 'u': 88,\n",
              " 'v': 89,\n",
              " 'w': 90,\n",
              " 'x': 91,\n",
              " 'y': 92,\n",
              " 'z': 93,\n",
              " '{': 94,\n",
              " '|': 95,\n",
              " '}': 96,\n",
              " '~': 97,\n",
              " '²': 98,\n",
              " '´': 99,\n",
              " '·': 100,\n",
              " '×': 101,\n",
              " 'é': 102,\n",
              " 'а': 103,\n",
              " 'е': 104,\n",
              " 'и': 105,\n",
              " 'н': 106,\n",
              " 'о': 107,\n",
              " 'р': 108,\n",
              " 'с': 109,\n",
              " 'т': 110,\n",
              " 'ᆞ': 111,\n",
              " '—': 112,\n",
              " '―': 113,\n",
              " '‘': 114,\n",
              " '’': 115,\n",
              " '“': 116,\n",
              " '”': 117,\n",
              " '•': 118,\n",
              " '․': 119,\n",
              " '‥': 120,\n",
              " '…': 121,\n",
              " '‧': 122,\n",
              " '※': 123,\n",
              " '℃': 124,\n",
              " 'ℓ': 125,\n",
              " 'Ⅰ': 126,\n",
              " 'Ⅱ': 127,\n",
              " 'Ⅲ': 128,\n",
              " '↑': 129,\n",
              " '→': 130,\n",
              " '∙': 131,\n",
              " '∼': 132,\n",
              " '≪': 133,\n",
              " '≫': 134,\n",
              " '⊙': 135,\n",
              " '①': 136,\n",
              " '②': 137,\n",
              " '③': 138,\n",
              " '④': 139,\n",
              " '⑤': 140,\n",
              " '⑥': 141,\n",
              " '⑦': 142,\n",
              " '─': 143,\n",
              " '━': 144,\n",
              " '│': 145,\n",
              " '■': 146,\n",
              " '□': 147,\n",
              " '▲': 148,\n",
              " '△': 149,\n",
              " '▶': 150,\n",
              " '▷': 151,\n",
              " '▼': 152,\n",
              " '◆': 153,\n",
              " '◇': 154,\n",
              " '◈': 155,\n",
              " '○': 156,\n",
              " '●': 157,\n",
              " '★': 158,\n",
              " '☆': 159,\n",
              " '☞': 160,\n",
              " '♀': 161,\n",
              " '♡': 162,\n",
              " '♥': 163,\n",
              " '✔': 164,\n",
              " '✨': 165,\n",
              " '❤': 166,\n",
              " '⠀': 167,\n",
              " '〈': 168,\n",
              " '〉': 169,\n",
              " '《': 170,\n",
              " '》': 171,\n",
              " '「': 172,\n",
              " '」': 173,\n",
              " '『': 174,\n",
              " '』': 175,\n",
              " '【': 176,\n",
              " '】': 177,\n",
              " '〔': 178,\n",
              " '〕': 179,\n",
              " 'の': 180,\n",
              " '・': 181,\n",
              " 'ㄱ': 182,\n",
              " 'ㄴ': 183,\n",
              " 'ㄷ': 184,\n",
              " 'ㄹ': 185,\n",
              " 'ㅁ': 186,\n",
              " 'ㅂ': 187,\n",
              " 'ㅅ': 188,\n",
              " 'ㅇ': 189,\n",
              " 'ㅈ': 190,\n",
              " 'ㅋ': 191,\n",
              " 'ㅌ': 192,\n",
              " 'ㅎ': 193,\n",
              " 'ㅏ': 194,\n",
              " 'ㅜ': 195,\n",
              " 'ㅠ': 196,\n",
              " 'ㅡ': 197,\n",
              " 'ㅣ': 198,\n",
              " 'ㅤ': 199,\n",
              " 'ㆍ': 200,\n",
              " '㈜': 201,\n",
              " '㎎': 202,\n",
              " '㎏': 203,\n",
              " '㎖': 204,\n",
              " '㎜': 205,\n",
              " '㎝': 206,\n",
              " '㎞': 207,\n",
              " '㎡': 208,\n",
              " '㎢': 209,\n",
              " '㎥': 210,\n",
              " '㎾': 211,\n",
              " '㏊': 212,\n",
              " '一': 213,\n",
              " '七': 214,\n",
              " '三': 215,\n",
              " '上': 216,\n",
              " '下': 217,\n",
              " '不': 218,\n",
              " '世': 219,\n",
              " '中': 220,\n",
              " '主': 221,\n",
              " '之': 222,\n",
              " '九': 223,\n",
              " '也': 224,\n",
              " '事': 225,\n",
              " '二': 226,\n",
              " '五': 227,\n",
              " '京': 228,\n",
              " '人': 229,\n",
              " '仁': 230,\n",
              " '代': 231,\n",
              " '以': 232,\n",
              " '任': 233,\n",
              " '佛': 234,\n",
              " '作': 235,\n",
              " '使': 236,\n",
              " '來': 237,\n",
              " '例': 238,\n",
              " '保': 239,\n",
              " '信': 240,\n",
              " '修': 241,\n",
              " '傳': 242,\n",
              " '債': 243,\n",
              " '元': 244,\n",
              " '先': 245,\n",
              " '光': 246,\n",
              " '入': 247,\n",
              " '內': 248,\n",
              " '全': 249,\n",
              " '八': 250,\n",
              " '公': 251,\n",
              " '共': 252,\n",
              " '兵': 253,\n",
              " '其': 254,\n",
              " '典': 255,\n",
              " '出': 256,\n",
              " '分': 257,\n",
              " '判': 258,\n",
              " '別': 259,\n",
              " '利': 260,\n",
              " '制': 261,\n",
              " '則': 262,\n",
              " '前': 263,\n",
              " '力': 264,\n",
              " '動': 265,\n",
              " '務': 266,\n",
              " '化': 267,\n",
              " '北': 268,\n",
              " '十': 269,\n",
              " '南': 270,\n",
              " '原': 271,\n",
              " '反': 272,\n",
              " '受': 273,\n",
              " '口': 274,\n",
              " '古': 275,\n",
              " '可': 276,\n",
              " '史': 277,\n",
              " '司': 278,\n",
              " '合': 279,\n",
              " '吉': 280,\n",
              " '同': 281,\n",
              " '名': 282,\n",
              " '君': 283,\n",
              " '告': 284,\n",
              " '周': 285,\n",
              " '命': 286,\n",
              " '和': 287,\n",
              " '員': 288,\n",
              " '商': 289,\n",
              " '問': 290,\n",
              " '善': 291,\n",
              " '四': 292,\n",
              " '國': 293,\n",
              " '圖': 294,\n",
              " '土': 295,\n",
              " '在': 296,\n",
              " '地': 297,\n",
              " '城': 298,\n",
              " '基': 299,\n",
              " '堂': 300,\n",
              " '報': 301,\n",
              " '場': 302,\n",
              " '士': 303,\n",
              " '外': 304,\n",
              " '多': 305,\n",
              " '大': 306,\n",
              " '天': 307,\n",
              " '太': 308,\n",
              " '夫': 309,\n",
              " '契': 310,\n",
              " '女': 311,\n",
              " '如': 312,\n",
              " '子': 313,\n",
              " '字': 314,\n",
              " '孫': 315,\n",
              " '學': 316,\n",
              " '安': 317,\n",
              " '宗': 318,\n",
              " '官': 319,\n",
              " '定': 320,\n",
              " '宮': 321,\n",
              " '害': 322,\n",
              " '家': 323,\n",
              " '富': 324,\n",
              " '實': 325,\n",
              " '寺': 326,\n",
              " '將': 327,\n",
              " '對': 328,\n",
              " '小': 329,\n",
              " '山': 330,\n",
              " '島': 331,\n",
              " '川': 332,\n",
              " '州': 333,\n",
              " '己': 334,\n",
              " '市': 335,\n",
              " '帝': 336,\n",
              " '師': 337,\n",
              " '常': 338,\n",
              " '平': 339,\n",
              " '年': 340,\n",
              " '府': 341,\n",
              " '度': 342,\n",
              " '廣': 343,\n",
              " '式': 344,\n",
              " '張': 345,\n",
              " '强': 346,\n",
              " '形': 347,\n",
              " '後': 348,\n",
              " '得': 349,\n",
              " '德': 350,\n",
              " '心': 351,\n",
              " '志': 352,\n",
              " '思': 353,\n",
              " '性': 354,\n",
              " '情': 355,\n",
              " '惡': 356,\n",
              " '想': 357,\n",
              " '意': 358,\n",
              " '愛': 359,\n",
              " '憲': 360,\n",
              " '成': 361,\n",
              " '我': 362,\n",
              " '戰': 363,\n",
              " '所': 364,\n",
              " '手': 365,\n",
              " '擧': 366,\n",
              " '支': 367,\n",
              " '政': 368,\n",
              " '故': 369,\n",
              " '效': 370,\n",
              " '敎': 371,\n",
              " '數': 372,\n",
              " '文': 373,\n",
              " '新': 374,\n",
              " '方': 375,\n",
              " '於': 376,\n",
              " '族': 377,\n",
              " '日': 378,\n",
              " '明': 379,\n",
              " '春': 380,\n",
              " '是': 381,\n",
              " '時': 382,\n",
              " '曰': 383,\n",
              " '書': 384,\n",
              " '會': 385,\n",
              " '月': 386,\n",
              " '有': 387,\n",
              " '朝': 388,\n",
              " '期': 389,\n",
              " '木': 390,\n",
              " '未': 391,\n",
              " '本': 392,\n",
              " '朴': 393,\n",
              " '村': 394,\n",
              " '東': 395,\n",
              " '林': 396,\n",
              " '株': 397,\n",
              " '條': 398,\n",
              " '業': 399,\n",
              " '機': 400,\n",
              " '權': 401,\n",
              " '歌': 402,\n",
              " '正': 403,\n",
              " '此': 404,\n",
              " '武': 405,\n",
              " '死': 406,\n",
              " '母': 407,\n",
              " '氏': 408,\n",
              " '民': 409,\n",
              " '氣': 410,\n",
              " '水': 411,\n",
              " '求': 412,\n",
              " '江': 413,\n",
              " '決': 414,\n",
              " '河': 415,\n",
              " '治': 416,\n",
              " '法': 417,\n",
              " '海': 418,\n",
              " '淸': 419,\n",
              " '漢': 420,\n",
              " '濟': 421,\n",
              " '火': 422,\n",
              " '無': 423,\n",
              " '然': 424,\n",
              " '爲': 425,\n",
              " '父': 426,\n",
              " '物': 427,\n",
              " '獨': 428,\n",
              " '王': 429,\n",
              " '現': 430,\n",
              " '理': 431,\n",
              " '生': 432,\n",
              " '産': 433,\n",
              " '用': 434,\n",
              " '田': 435,\n",
              " '由': 436,\n",
              " '甲': 437,\n",
              " '男': 438,\n",
              " '界': 439,\n",
              " '異': 440,\n",
              " '當': 441,\n",
              " '發': 442,\n",
              " '白': 443,\n",
              " '百': 444,\n",
              " '的': 445,\n",
              " '相': 446,\n",
              " '眞': 447,\n",
              " '知': 448,\n",
              " '石': 449,\n",
              " '硏': 450,\n",
              " '社': 451,\n",
              " '祖': 452,\n",
              " '神': 453,\n",
              " '福': 454,\n",
              " '禮': 455,\n",
              " '私': 456,\n",
              " '究': 457,\n",
              " '空': 458,\n",
              " '立': 459,\n",
              " '章': 460,\n",
              " '第': 461,\n",
              " '節': 462,\n",
              " '約': 463,\n",
              " '統': 464,\n",
              " '經': 465,\n",
              " '美': 466,\n",
              " '義': 467,\n",
              " '者': 468,\n",
              " '而': 469,\n",
              " '聖': 470,\n",
              " '能': 471,\n",
              " '臣': 472,\n",
              " '自': 473,\n",
              " '至': 474,\n",
              " '與': 475,\n",
              " '色': 476,\n",
              " '花': 477,\n",
              " '英': 478,\n",
              " '華': 479,\n",
              " '萬': 480,\n",
              " '處': 481,\n",
              " '行': 482,\n",
              " '表': 483,\n",
              " '裁': 484,\n",
              " '西': 485,\n",
              " '要': 486,\n",
              " '見': 487,\n",
              " '規': 488,\n",
              " '親': 489,\n",
              " '觀': 490,\n",
              " '解': 491,\n",
              " '言': 492,\n",
              " '記': 493,\n",
              " '註': 494,\n",
              " '詩': 495,\n",
              " '語': 496,\n",
              " '說': 497,\n",
              " '論': 498,\n",
              " '證': 499,\n",
              " '議': 500,\n",
              " '資': 501,\n",
              " '身': 502,\n",
              " '車': 503,\n",
              " '軍': 504,\n",
              " '近': 505,\n",
              " '通': 506,\n",
              " '運': 507,\n",
              " '過': 508,\n",
              " '道': 509,\n",
              " '選': 510,\n",
              " '郞': 511,\n",
              " '部': 512,\n",
              " '都': 513,\n",
              " '鄭': 514,\n",
              " '重': 515,\n",
              " '野': 516,\n",
              " '金': 517,\n",
              " '銀': 518,\n",
              " '錄': 519,\n",
              " '長': 520,\n",
              " '門': 521,\n",
              " '開': 522,\n",
              " '間': 523,\n",
              " '關': 524,\n",
              " '限': 525,\n",
              " '院': 526,\n",
              " '陽': 527,\n",
              " '集': 528,\n",
              " '雲': 529,\n",
              " '靑': 530,\n",
              " '非': 531,\n",
              " '面': 532,\n",
              " '韓': 533,\n",
              " '風': 534,\n",
              " '食': 535,\n",
              " '馬': 536,\n",
              " '體': 537,\n",
              " '高': 538,\n",
              " '鮮': 539,\n",
              " '黃': 540,\n",
              " '黨': 541,\n",
              " '龍': 542,\n",
              " '가': 543,\n",
              " '각': 544,\n",
              " '간': 545,\n",
              " '갇': 546,\n",
              " '갈': 547,\n",
              " '감': 548,\n",
              " '갑': 549,\n",
              " '값': 550,\n",
              " '갓': 551,\n",
              " '갔': 552,\n",
              " '강': 553,\n",
              " '갖': 554,\n",
              " '같': 555,\n",
              " '갚': 556,\n",
              " '갛': 557,\n",
              " '개': 558,\n",
              " '객': 559,\n",
              " '갠': 560,\n",
              " '갤': 561,\n",
              " '갯': 562,\n",
              " '갱': 563,\n",
              " '갸': 564,\n",
              " '걀': 565,\n",
              " '걍': 566,\n",
              " '걔': 567,\n",
              " '거': 568,\n",
              " '걱': 569,\n",
              " '건': 570,\n",
              " '걷': 571,\n",
              " '걸': 572,\n",
              " '검': 573,\n",
              " '겁': 574,\n",
              " '것': 575,\n",
              " '겄': 576,\n",
              " '겉': 577,\n",
              " '게': 578,\n",
              " '겐': 579,\n",
              " '겔': 580,\n",
              " '겟': 581,\n",
              " '겠': 582,\n",
              " '겨': 583,\n",
              " '격': 584,\n",
              " '겪': 585,\n",
              " '견': 586,\n",
              " '결': 587,\n",
              " '겸': 588,\n",
              " '겹': 589,\n",
              " '겼': 590,\n",
              " '경': 591,\n",
              " '곁': 592,\n",
              " '계': 593,\n",
              " '고': 594,\n",
              " '곡': 595,\n",
              " '곤': 596,\n",
              " '곧': 597,\n",
              " '골': 598,\n",
              " '곰': 599,\n",
              " '곱': 600,\n",
              " '곳': 601,\n",
              " '공': 602,\n",
              " '곶': 603,\n",
              " '과': 604,\n",
              " '곽': 605,\n",
              " '관': 606,\n",
              " '괄': 607,\n",
              " '괌': 608,\n",
              " '광': 609,\n",
              " '괘': 610,\n",
              " '괜': 611,\n",
              " '괴': 612,\n",
              " '굉': 613,\n",
              " '교': 614,\n",
              " '구': 615,\n",
              " '국': 616,\n",
              " '군': 617,\n",
              " '굳': 618,\n",
              " '굴': 619,\n",
              " '굵': 620,\n",
              " '굶': 621,\n",
              " '굽': 622,\n",
              " '굿': 623,\n",
              " '궁': 624,\n",
              " '궂': 625,\n",
              " '궈': 626,\n",
              " '권': 627,\n",
              " '궐': 628,\n",
              " '궤': 629,\n",
              " '귀': 630,\n",
              " '귄': 631,\n",
              " '귓': 632,\n",
              " '규': 633,\n",
              " '균': 634,\n",
              " '귤': 635,\n",
              " '그': 636,\n",
              " '극': 637,\n",
              " '근': 638,\n",
              " '글': 639,\n",
              " '긁': 640,\n",
              " '금': 641,\n",
              " '급': 642,\n",
              " '긋': 643,\n",
              " '긍': 644,\n",
              " '기': 645,\n",
              " '긴': 646,\n",
              " '길': 647,\n",
              " '김': 648,\n",
              " '깁': 649,\n",
              " '깃': 650,\n",
              " '깅': 651,\n",
              " '깊': 652,\n",
              " '까': 653,\n",
              " '깍': 654,\n",
              " '깎': 655,\n",
              " '깐': 656,\n",
              " '깔': 657,\n",
              " '깜': 658,\n",
              " '깝': 659,\n",
              " '깡': 660,\n",
              " '깥': 661,\n",
              " '깨': 662,\n",
              " '깬': 663,\n",
              " '깻': 664,\n",
              " '꺼': 665,\n",
              " '꺽': 666,\n",
              " '꺾': 667,\n",
              " '껄': 668,\n",
              " '껌': 669,\n",
              " '껍': 670,\n",
              " '껏': 671,\n",
              " '껑': 672,\n",
              " '께': 673,\n",
              " '껴': 674,\n",
              " '꼈': 675,\n",
              " '꼬': 676,\n",
              " '꼭': 677,\n",
              " '꼴': 678,\n",
              " '꼼': 679,\n",
              " '꼽': 680,\n",
              " '꼿': 681,\n",
              " '꽁': 682,\n",
              " '꽂': 683,\n",
              " '꽃': 684,\n",
              " '꽉': 685,\n",
              " '꽝': 686,\n",
              " '꽤': 687,\n",
              " '꾀': 688,\n",
              " '꾸': 689,\n",
              " '꾹': 690,\n",
              " '꾼': 691,\n",
              " '꿀': 692,\n",
              " '꿇': 693,\n",
              " '꿈': 694,\n",
              " '꿋': 695,\n",
              " '꿍': 696,\n",
              " '꿔': 697,\n",
              " '꿨': 698,\n",
              " '꿰': 699,\n",
              " '뀌': 700,\n",
              " '뀐': 701,\n",
              " '뀔': 702,\n",
              " '끄': 703,\n",
              " '끈': 704,\n",
              " '끊': 705,\n",
              " '끌': 706,\n",
              " '끓': 707,\n",
              " '끔': 708,\n",
              " '끗': 709,\n",
              " '끙': 710,\n",
              " '끝': 711,\n",
              " '끼': 712,\n",
              " '끽': 713,\n",
              " '낀': 714,\n",
              " '낄': 715,\n",
              " '낌': 716,\n",
              " '나': 717,\n",
              " '낙': 718,\n",
              " '낚': 719,\n",
              " '난': 720,\n",
              " '날': 721,\n",
              " '낡': 722,\n",
              " '남': 723,\n",
              " '납': 724,\n",
              " '낫': 725,\n",
              " '났': 726,\n",
              " '낭': 727,\n",
              " '낮': 728,\n",
              " '낯': 729,\n",
              " '낱': 730,\n",
              " '낳': 731,\n",
              " '내': 732,\n",
              " '낸': 733,\n",
              " '낼': 734,\n",
              " '냄': 735,\n",
              " '냅': 736,\n",
              " '냇': 737,\n",
              " '냈': 738,\n",
              " '냉': 739,\n",
              " '냐': 740,\n",
              " '냠': 741,\n",
              " '냥': 742,\n",
              " '너': 743,\n",
              " '넉': 744,\n",
              " '넋': 745,\n",
              " '넌': 746,\n",
              " '널': 747,\n",
              " '넓': 748,\n",
              " '넘': 749,\n",
              " '넛': 750,\n",
              " '넣': 751,\n",
              " '네': 752,\n",
              " '넥': 753,\n",
              " '넨': 754,\n",
              " '넬': 755,\n",
              " '넷': 756,\n",
              " '넸': 757,\n",
              " '넹': 758,\n",
              " '녀': 759,\n",
              " '녁': 760,\n",
              " '년': 761,\n",
              " '념': 762,\n",
              " '녔': 763,\n",
              " '녕': 764,\n",
              " '녘': 765,\n",
              " '노': 766,\n",
              " '녹': 767,\n",
              " '논': 768,\n",
              " '놀': 769,\n",
              " '놈': 770,\n",
              " '농': 771,\n",
              " '높': 772,\n",
              " '놓': 773,\n",
              " '놔': 774,\n",
              " '놨': 775,\n",
              " '뇌': 776,\n",
              " '뇨': 777,\n",
              " '누': 778,\n",
              " '눅': 779,\n",
              " '눈': 780,\n",
              " '눌': 781,\n",
              " '눔': 782,\n",
              " '눕': 783,\n",
              " '눠': 784,\n",
              " '눴': 785,\n",
              " '뉘': 786,\n",
              " '뉜': 787,\n",
              " '뉴': 788,\n",
              " '늄': 789,\n",
              " '늉': 790,\n",
              " '느': 791,\n",
              " '늑': 792,\n",
              " '는': 793,\n",
              " '늘': 794,\n",
              " '늙': 795,\n",
              " '늠': 796,\n",
              " '능': 797,\n",
              " '늦': 798,\n",
              " '늪': 799,\n",
              " '늬': 800,\n",
              " '니': 801,\n",
              " '닉': 802,\n",
              " '닌': 803,\n",
              " '닐': 804,\n",
              " '님': 805,\n",
              " '닙': 806,\n",
              " '닛': 807,\n",
              " '닝': 808,\n",
              " '다': 809,\n",
              " '닥': 810,\n",
              " '닦': 811,\n",
              " '단': 812,\n",
              " '닫': 813,\n",
              " '달': 814,\n",
              " '닭': 815,\n",
              " '닮': 816,\n",
              " '닳': 817,\n",
              " '담': 818,\n",
              " '답': 819,\n",
              " '닷': 820,\n",
              " '당': 821,\n",
              " '닿': 822,\n",
              " '대': 823,\n",
              " '댁': 824,\n",
              " '댄': 825,\n",
              " '댈': 826,\n",
              " '댐': 827,\n",
              " '댓': 828,\n",
              " '댔': 829,\n",
              " '댕': 830,\n",
              " '더': 831,\n",
              " '덕': 832,\n",
              " '던': 833,\n",
              " '덜': 834,\n",
              " '덟': 835,\n",
              " '덤': 836,\n",
              " '덥': 837,\n",
              " '덧': 838,\n",
              " '덩': 839,\n",
              " '덫': 840,\n",
              " '덮': 841,\n",
              " '데': 842,\n",
              " '덱': 843,\n",
              " '덴': 844,\n",
              " '델': 845,\n",
              " '뎅': 846,\n",
              " '뎌': 847,\n",
              " '도': 848,\n",
              " '독': 849,\n",
              " '돈': 850,\n",
              " '돋': 851,\n",
              " '돌': 852,\n",
              " '돔': 853,\n",
              " '돕': 854,\n",
              " '돗': 855,\n",
              " '동': 856,\n",
              " '돼': 857,\n",
              " '됐': 858,\n",
              " '되': 859,\n",
              " '된': 860,\n",
              " '될': 861,\n",
              " '됨': 862,\n",
              " '됩': 863,\n",
              " '두': 864,\n",
              " '둑': 865,\n",
              " '둔': 866,\n",
              " '둘': 867,\n",
              " '둠': 868,\n",
              " '둡': 869,\n",
              " '둥': 870,\n",
              " '둬': 871,\n",
              " '뒀': 872,\n",
              " '뒤': 873,\n",
              " '뒷': 874,\n",
              " '뒹': 875,\n",
              " '듀': 876,\n",
              " '듈': 877,\n",
              " '드': 878,\n",
              " '득': 879,\n",
              " '든': 880,\n",
              " '듣': 881,\n",
              " '들': 882,\n",
              " '듬': 883,\n",
              " '듭': 884,\n",
              " '듯': 885,\n",
              " '등': 886,\n",
              " '디': 887,\n",
              " '딕': 888,\n",
              " '딘': 889,\n",
              " '딛': 890,\n",
              " '딜': 891,\n",
              " '딤': 892,\n",
              " '딥': 893,\n",
              " '딧': 894,\n",
              " '딩': 895,\n",
              " '딪': 896,\n",
              " '따': 897,\n",
              " '딱': 898,\n",
              " '딴': 899,\n",
              " '딸': 900,\n",
              " '땀': 901,\n",
              " '땄': 902,\n",
              " '땅': 903,\n",
              " '때': 904,\n",
              " '땐': 905,\n",
              " '땜': 906,\n",
              " '땠': 907,\n",
              " '땡': 908,\n",
              " '떠': 909,\n",
              " '떡': 910,\n",
              " '떤': 911,\n",
              " '떨': 912,\n",
              " '떳': 913,\n",
              " '떴': 914,\n",
              " '떻': 915,\n",
              " '떼': 916,\n",
              " '뗄': 917,\n",
              " '또': 918,\n",
              " '똑': 919,\n",
              " '똘': 920,\n",
              " '똥': 921,\n",
              " '뚜': 922,\n",
              " '뚝': 923,\n",
              " '뚤': 924,\n",
              " '뚫': 925,\n",
              " '뚱': 926,\n",
              " '뛰': 927,\n",
              " '뛴': 928,\n",
              " '뛸': 929,\n",
              " '뜨': 930,\n",
              " '뜩': 931,\n",
              " '뜬': 932,\n",
              " '뜯': 933,\n",
              " '뜰': 934,\n",
              " '뜸': 935,\n",
              " '뜻': 936,\n",
              " '띄': 937,\n",
              " '띈': 938,\n",
              " '띔': 939,\n",
              " '띠': 940,\n",
              " '띤': 941,\n",
              " '라': 942,\n",
              " '락': 943,\n",
              " '란': 944,\n",
              " '랄': 945,\n",
              " '람': 946,\n",
              " '랍': 947,\n",
              " '랏': 948,\n",
              " '랐': 949,\n",
              " '랑': 950,\n",
              " '랗': 951,\n",
              " '래': 952,\n",
              " '랙': 953,\n",
              " '랜': 954,\n",
              " '랠': 955,\n",
              " '램': 956,\n",
              " '랩': 957,\n",
              " '랫': 958,\n",
              " '랬': 959,\n",
              " '랭': 960,\n",
              " '랴': 961,\n",
              " '략': 962,\n",
              " '량': 963,\n",
              " '러': 964,\n",
              " '럭': 965,\n",
              " '런': 966,\n",
              " '럴': 967,\n",
              " '럼': 968,\n",
              " '럽': 969,\n",
              " '럿': 970,\n",
              " '렀': 971,\n",
              " '렁': 972,\n",
              " '렇': 973,\n",
              " '레': 974,\n",
              " '렉': 975,\n",
              " '렌': 976,\n",
              " '렐': 977,\n",
              " '렘': 978,\n",
              " '렙': 979,\n",
              " '렛': 980,\n",
              " '려': 981,\n",
              " '력': 982,\n",
              " '련': 983,\n",
              " '렬': 984,\n",
              " '렴': 985,\n",
              " '렵': 986,\n",
              " '렷': 987,\n",
              " '렸': 988,\n",
              " '령': 989,\n",
              " '례': 990,\n",
              " '로': 991,\n",
              " '록': 992,\n",
              " '론': 993,\n",
              " '롤': 994,\n",
              " '롬': 995,\n",
              " '롭': 996,\n",
              " '롯': 997,\n",
              " '롱': 998,\n",
              " '뢰': 999,\n",
              " ...}"
            ]
          },
          "execution_count": 31,
          "metadata": {},
          "output_type": "execute_result"
        }
      ],
      "source": [
        "# # sort by token id \n",
        "dict(sorted(pretrained_vocabs.items(), key=lambda item: item[1]))"
      ]
    },
    {
      "cell_type": "markdown",
      "id": "xzEfnf7r2yLg",
      "metadata": {
        "id": "xzEfnf7r2yLg"
      },
      "source": [
        "## Special Tokens 확인"
      ]
    },
    {
      "cell_type": "markdown",
      "id": "D-2NMesAy6ir",
      "metadata": {
        "id": "D-2NMesAy6ir"
      },
      "source": [
        "<tokenization 후 얻을 수 있는 input_ids 에 대한 token 정보>\n",
        "- '[PAD]': 0,\n",
        "- '[UNK]': 1,\n",
        "- '[CLS]': 2,\n",
        "- '[SEP]': 3,\n",
        "- '[MASK]': 4,"
      ]
    },
    {
      "cell_type": "markdown",
      "id": "gnMfGMIVCfQT",
      "metadata": {
        "id": "gnMfGMIVCfQT"
      },
      "source": [
        "## Dataset (Tokenization 포함)"
      ]
    },
    {
      "cell_type": "code",
      "execution_count": null,
      "id": "greenhouse-glenn",
      "metadata": {
        "id": "greenhouse-glenn"
      },
      "outputs": [],
      "source": [
        "class CustomedDataset(Dataset):\n",
        "\n",
        "    def __init__(self, contexts, questions, answers, model_max_position_embedings, tokenizer):\n",
        "        self.tokenizer = tokenizer\n",
        "        self.answers = answers\n",
        "        self.questions = questions\n",
        "        self.contexts = contexts\n",
        "        self.model_max_position_embedings = model_max_position_embedings\n",
        "        print(\"Tokenizing ...\")\n",
        "        self.encodings = self.tokenizer(self.contexts, \n",
        "                                        self.questions,\n",
        "                                        max_length=self.model_max_position_embedings, \n",
        "                                        truncation=True,\n",
        "                                        padding=\"max_length\",\n",
        "                                        return_token_type_ids=False)\n",
        "        print(\"Done !!!\")\n",
        "        self.add_token_positions() \n",
        "\n",
        "    def add_token_positions(self):\n",
        "        start_positions = []\n",
        "        end_positions = []\n",
        "\n",
        "        for i in range(len(self.answers)): \n",
        "            start_positions.append(self.encodings.char_to_token(i, self.answers[i]['answer_start']))\n",
        "            end_positions.append(self.encodings.char_to_token(i, self.answers[i]['answer_end'] - 1))\n",
        "            # import pdb\n",
        "            # pdb.set_trace()\n",
        "            if start_positions[-1] is None:\n",
        "                start_positions[-1] = self.model_max_position_embedings\n",
        "            if end_positions[-1] is None:\n",
        "                end_positions[-1] = self.model_max_position_embedings\n",
        "\n",
        "        self.encodings.update({'start_positions': start_positions, 'end_positions': end_positions})\n",
        "\n",
        "\n",
        "    def get_data(self):\n",
        "        return {\"contexts\":self.contexts, 'questions':self.questions, 'answers':self.answers}\n",
        "    \n",
        "\n",
        "    def __getitem__(self, idx):\n",
        "        return {key:torch.tensor(val[idx]) for key, val in self.encodings.items()}\n",
        "    \n",
        "\n",
        "    def __len__(self):\n",
        "        return len(self.encodings['input_ids'])"
      ]
    },
    {
      "cell_type": "code",
      "execution_count": null,
      "id": "sMW8ldn2waby",
      "metadata": {
        "colab": {
          "base_uri": "https://localhost:8080/"
        },
        "id": "sMW8ldn2waby",
        "outputId": "00d232f9-e428-4700-8144-7a6802f02b3a"
      },
      "outputs": [
        {
          "name": "stdout",
          "output_type": "stream",
          "text": [
            "Tokenizing ...\n",
            "Done !!!\n"
          ]
        }
      ],
      "source": [
        "train_dataset = CustomedDataset(train_contexts, train_questions, train_answers, 512, tokenizer)"
      ]
    },
    {
      "cell_type": "markdown",
      "id": "nYRjZqv5wcIc",
      "metadata": {
        "id": "nYRjZqv5wcIc"
      },
      "source": [
        "- input_ids: tokenization 결과 + SPECIAL tokens 추가된 형태\n",
        "- token_type_ids: context 가 0, question이 1\n",
        "- attention_mask: 모두 1"
      ]
    },
    {
      "cell_type": "markdown",
      "id": "_-XkGetCIhQC",
      "metadata": {
        "id": "_-XkGetCIhQC"
      },
      "source": [
        "## Token 개수 & Unknown token 개수 확인 "
      ]
    },
    {
      "cell_type": "code",
      "execution_count": null,
      "id": "FRqFEkjXGCj3",
      "metadata": {
        "id": "FRqFEkjXGCj3"
      },
      "outputs": [],
      "source": [
        "# #tokens\n",
        "def get_token_nums(dataset): \n",
        "  length_list = []\n",
        "  for i in range(len(dataset)):\n",
        "    length_list.append(dataset.__getitem__(i)[\"input_ids\"].count_nonzero().item())\n",
        "  return length_list"
      ]
    },
    {
      "cell_type": "code",
      "execution_count": null,
      "id": "7i-EPoc7GJB1",
      "metadata": {
        "colab": {
          "base_uri": "https://localhost:8080/",
          "height": 294
        },
        "id": "7i-EPoc7GJB1",
        "outputId": "2a546de1-cb61-41c3-bdbd-bf396e6058c9"
      },
      "outputs": [
        {
          "data": {
            "image/png": "[encoded data removed]",
            "text/plain": [
              "<Figure size 432x288 with 1 Axes>"
            ]
          },
          "metadata": {
            "needs_background": "light"
          },
          "output_type": "display_data"
        }
      ],
      "source": [
        "train_length_list = get_token_nums(train_dataset)\n",
        "\n",
        "n, bins, patches=plt.hist(train_length_list)\n",
        "plt.xlabel(\"#Tokens in Contexts + Questions\")\n",
        "plt.ylabel(\"Frequency\")\n",
        "plt.title(\"Histogram\")\n",
        "plt.show()"
      ]
    },
    {
      "cell_type": "code",
      "execution_count": null,
      "id": "lUCxFlaoMOyH",
      "metadata": {
        "id": "lUCxFlaoMOyH"
      },
      "outputs": [],
      "source": [
        "def get_one_nums(dataset): \n",
        "  one_num_list = []\n",
        "  for i in range(len(dataset)):\n",
        "    record_token_ids = dataset.__getitem__(i)[\"input_ids\"]\n",
        "    num_ones = (record_token_ids == 1.).sum(dim=0).item()\n",
        "    one_num_list.append(num_ones)\n",
        "  return one_num_list"
      ]
    },
    {
      "cell_type": "code",
      "execution_count": null,
      "id": "qdB6FSmoNABe",
      "metadata": {
        "colab": {
          "base_uri": "https://localhost:8080/",
          "height": 294
        },
        "id": "qdB6FSmoNABe",
        "outputId": "2e9f3066-dc0d-4a2d-81f0-704b32133eea"
      },
      "outputs": [
        {
          "data": {
            "image/png": "[encoded data removed]",
            "text/plain": [
              "<Figure size 432x288 with 1 Axes>"
            ]
          },
          "metadata": {
            "needs_background": "light"
          },
          "output_type": "display_data"
        }
      ],
      "source": [
        "# unknown tokens\n",
        "train_one_num_list = get_one_nums(train_dataset)\n",
        "\n",
        "n, bins, patches=plt.hist(train_one_num_list)\n",
        "plt.xlabel(\"#1s\")\n",
        "plt.ylabel(\"Frequency\")\n",
        "plt.title(\"Histogram\")\n",
        "plt.show()"
      ]
    },
    {
      "cell_type": "code",
      "execution_count": null,
      "id": "Ma0pylK5ZAcV",
      "metadata": {
        "colab": {
          "base_uri": "https://localhost:8080/"
        },
        "id": "Ma0pylK5ZAcV",
        "outputId": "a37fd4f6-5e5e-45dd-890f-be56ae6ac858"
      },
      "outputs": [
        {
          "data": {
            "text/plain": [
              "0.7576855573798336"
            ]
          },
          "execution_count": 46,
          "metadata": {},
          "output_type": "execute_result"
        }
      ],
      "source": [
        "train_one_num_list.count(0) / len(train_one_num_list)"
      ]
    },
    {
      "cell_type": "markdown",
      "id": "xpkg-S7rNAxJ",
      "metadata": {
        "id": "xpkg-S7rNAxJ"
      },
      "source": [
        "cf. 밑의 코드들은 512로 자르지 않았을 경우"
      ]
    },
    {
      "cell_type": "code",
      "execution_count": null,
      "id": "4QMcrsKc3HHr",
      "metadata": {
        "colab": {
          "base_uri": "https://localhost:8080/"
        },
        "id": "4QMcrsKc3HHr",
        "outputId": "a21a2387-fa93-4a71-846d-c7ea38a748b7"
      },
      "outputs": [
        {
          "name": "stdout",
          "output_type": "stream",
          "text": [
            "Tokenizing ...\n",
            "Done !!!\n"
          ]
        }
      ],
      "source": [
        "temp_train_dataset = CustomedDataset(train_contexts, train_questions, train_answers, 2000, tokenizer)"
      ]
    },
    {
      "cell_type": "code",
      "execution_count": null,
      "id": "7dNmi087FNr6",
      "metadata": {
        "colab": {
          "base_uri": "https://localhost:8080/",
          "height": 294
        },
        "id": "7dNmi087FNr6",
        "outputId": "8fa51f0f-acf4-4e98-b5f4-fc26c70eedb2"
      },
      "outputs": [
        {
          "data": {
            "image/png": "[encoded data removed]",
            "text/plain": [
              "<Figure size 432x288 with 1 Axes>"
            ]
          },
          "metadata": {
            "needs_background": "light"
          },
          "output_type": "display_data"
        }
      ],
      "source": [
        "# #tokens\n",
        "temp_train_length_list = get_token_nums(temp_train_dataset)\n",
        "\n",
        "n, bins, patches=plt.hist(temp_train_length_list)\n",
        "plt.xlabel(\"#Tokens in Contexts + Questions\")\n",
        "plt.ylabel(\"Frequency\")\n",
        "plt.title(\"Histogram\")\n",
        "plt.show()"
      ]
    },
    {
      "cell_type": "code",
      "execution_count": null,
      "id": "sGhVwtCzKySQ",
      "metadata": {
        "colab": {
          "base_uri": "https://localhost:8080/",
          "height": 294
        },
        "id": "sGhVwtCzKySQ",
        "outputId": "52ce6fb0-d95a-4ff2-cc08-306fdcac80fa"
      },
      "outputs": [
        {
          "data": {
            "image/png": "[encoded data removed]",
            "text/plain": [
              "<Figure size 432x288 with 1 Axes>"
            ]
          },
          "metadata": {
            "needs_background": "light"
          },
          "output_type": "display_data"
        }
      ],
      "source": [
        "# unknown tokens\n",
        "temp_train_one_num_list = get_one_nums(temp_train_dataset)\n",
        "\n",
        "n, bins, patches=plt.hist(temp_train_one_num_list)\n",
        "plt.xlabel(\"#1s\")\n",
        "plt.ylabel(\"Frequency\")\n",
        "plt.title(\"Histogram\")\n",
        "plt.show()"
      ]
    },
    {
      "cell_type": "code",
      "execution_count": null,
      "id": "Oxup1u5TY4iy",
      "metadata": {
        "colab": {
          "base_uri": "https://localhost:8080/"
        },
        "id": "Oxup1u5TY4iy",
        "outputId": "bc80504a-0ded-4ff8-c16e-6eb1f8703134"
      },
      "outputs": [
        {
          "data": {
            "text/plain": [
              "12951"
            ]
          },
          "execution_count": 50,
          "metadata": {},
          "output_type": "execute_result"
        }
      ],
      "source": [
        "temp_train_one_num_list.count(0)"
      ]
    },
    {
      "cell_type": "markdown",
      "id": "dO65jNCbtrXw",
      "metadata": {
        "id": "dO65jNCbtrXw"
      },
      "source": [
        "# Test Data 준비 및 EDA"
      ]
    },
    {
      "cell_type": "code",
      "execution_count": null,
      "id": "VjuPGSVv4K1-",
      "metadata": {
        "id": "VjuPGSVv4K1-"
      },
      "outputs": [],
      "source": [
        "def read_test_data(path):\n",
        "    with open(path, 'rb') as f:\n",
        "        data_dict = json.load(f)\n",
        "\n",
        "    categories = [] \n",
        "    contexts = []\n",
        "    questions = []\n",
        "    guids = [] \n",
        "\n",
        "    for group in tqdm(data_dict['data']):\n",
        "        category = group[\"news_category\"] \n",
        "\n",
        "        for passage in group['paragraphs']:\n",
        "            context = passage['context']\n",
        "\n",
        "            for qa in passage['qas']:\n",
        "                question = qa['question']\n",
        "                guid = qa['guid']\n",
        "\n",
        "                contexts.append(context)\n",
        "                questions.append(question)\n",
        "                guids.append(guid)\n",
        "                categories.append(category)\n",
        "\n",
        "\n",
        "    return categories, contexts, questions, guids"
      ]
    },
    {
      "cell_type": "code",
      "execution_count": null,
      "id": "official-allergy",
      "metadata": {
        "colab": {
          "base_uri": "https://localhost:8080/",
          "height": 49,
          "referenced_widgets": [
            "987bc8c099d94f4283d1b43e22f9c8ba",
            "b5b7430b14a34d7c8e785443755299f7",
            "69cd5f4202cf40abb012d6bfb1b70f70",
            "33ef1b75f3b34b5993747e732fe2a918",
            "d9506cdbb9c9425fadf8c721ce464eb9",
            "ce8a94f157484423b4d47d0f53061923",
            "8ef0da9f06424ede9e13d250e78b2614",
            "75344d20fda849d18ab814126cdba238",
            "59f3719a967541abb62e817adf71fc35",
            "05b83d44085342eba81ee3f89e99bff4",
            "e2c0ebb7b28e461eaa7c0449610665f5"
          ]
        },
        "id": "official-allergy",
        "outputId": "56f85be7-83c4-4824-e616-c2596e6543f4"
      },
      "outputs": [
        {
          "data": {
            "application/vnd.jupyter.widget-view+json": {
              "model_id": "987bc8c099d94f4283d1b43e22f9c8ba",
              "version_major": 2,
              "version_minor": 0
            },
            "text/plain": [
              "  0%|          | 0/3709 [00:00<?, ?it/s]"
            ]
          },
          "metadata": {},
          "output_type": "display_data"
        }
      ],
      "source": [
        "test_categories, test_contexts, test_questions, test_guids = read_test_data(DATA_PATH + \"test.json\")"
      ]
    },
    {
      "cell_type": "markdown",
      "id": "0UNAasZbuB_K",
      "metadata": {
        "id": "0UNAasZbuB_K"
      },
      "source": [
        "- tokenization 진행 전 데이터 분포"
      ]
    },
    {
      "cell_type": "code",
      "execution_count": null,
      "id": "ND7yHxjRvwTJ",
      "metadata": {
        "id": "ND7yHxjRvwTJ"
      },
      "outputs": [],
      "source": [
        "test_df = pd.DataFrame()\n",
        "test_df['Categories'] = test_categories\n",
        "test_df['Contexts'] = test_contexts\n",
        "test_df['Questions'] = test_questions\n",
        "test_df['guid'] = test_guids"
      ]
    },
    {
      "cell_type": "code",
      "execution_count": null,
      "id": "Kw6aA1-rv5r2",
      "metadata": {
        "colab": {
          "base_uri": "https://localhost:8080/",
          "height": 192
        },
        "id": "Kw6aA1-rv5r2",
        "outputId": "270052e2-49fa-4300-8552-1cbaee680a74"
      },
      "outputs": [
        {
          "data": {
            "text/html": [
              "<div>\n",
              "<style scoped>\n",
              "    .dataframe tbody tr th:only-of-type {\n",
              "        vertical-align: middle;\n",
              "    }\n",
              "\n",
              "    .dataframe tbody tr th {\n",
              "        vertical-align: top;\n",
              "    }\n",
              "\n",
              "    .dataframe thead th {\n",
              "        text-align: right;\n",
              "    }\n",
              "</style>\n",
              "<table border=\"1\" class=\"dataframe\">\n",
              "  <thead>\n",
              "    <tr style=\"text-align: right;\">\n",
              "      <th></th>\n",
              "      <th>Categories</th>\n",
              "      <th>Contexts</th>\n",
              "      <th>Questions</th>\n",
              "      <th>guid</th>\n",
              "    </tr>\n",
              "  </thead>\n",
              "  <tbody>\n",
              "    <tr>\n",
              "      <th>count</th>\n",
              "      <td>2818</td>\n",
              "      <td>4008</td>\n",
              "      <td>4008</td>\n",
              "      <td>4008</td>\n",
              "    </tr>\n",
              "    <tr>\n",
              "      <th>unique</th>\n",
              "      <td>32</td>\n",
              "      <td>3841</td>\n",
              "      <td>4008</td>\n",
              "      <td>4008</td>\n",
              "    </tr>\n",
              "    <tr>\n",
              "      <th>top</th>\n",
              "      <td>종합</td>\n",
              "      <td>호라티우스의 출신 가문은 정확히 알려져 있지 않다. 아마 그의 아버지는 노예에서 해...</td>\n",
              "      <td>다음 해 소형차 시장의 유망주로 예상되는 인도의 자동차 회사는?</td>\n",
              "      <td>c4671b0d6130481899b7879a8a4c073d</td>\n",
              "    </tr>\n",
              "    <tr>\n",
              "      <th>freq</th>\n",
              "      <td>515</td>\n",
              "      <td>3</td>\n",
              "      <td>1</td>\n",
              "      <td>1</td>\n",
              "    </tr>\n",
              "  </tbody>\n",
              "</table>\n",
              "</div>"
            ],
            "text/plain": [
              "       Categories  ...                              guid\n",
              "count        2818  ...                              4008\n",
              "unique         32  ...                              4008\n",
              "top            종합  ...  c4671b0d6130481899b7879a8a4c073d\n",
              "freq          515  ...                                 1\n",
              "\n",
              "[4 rows x 4 columns]"
            ]
          },
          "execution_count": 54,
          "metadata": {},
          "output_type": "execute_result"
        }
      ],
      "source": [
        "test_df.describe(include=\"all\")"
      ]
    },
    {
      "cell_type": "markdown",
      "id": "bu7c90E0uSqD",
      "metadata": {
        "id": "bu7c90E0uSqD"
      },
      "source": [
        "## 중복, 비슷한 의미의 Question X"
      ]
    },
    {
      "cell_type": "code",
      "execution_count": null,
      "id": "LHCMReBRwAJZ",
      "metadata": {
        "colab": {
          "base_uri": "https://localhost:8080/",
          "height": 67
        },
        "id": "LHCMReBRwAJZ",
        "outputId": "ce35d60b-44d9-4dbd-b476-8882dd24e257"
      },
      "outputs": [
        {
          "name": "stdout",
          "output_type": "stream",
          "text": [
            "0\n"
          ]
        },
        {
          "data": {
            "text/html": [
              "<div>\n",
              "<style scoped>\n",
              "    .dataframe tbody tr th:only-of-type {\n",
              "        vertical-align: middle;\n",
              "    }\n",
              "\n",
              "    .dataframe tbody tr th {\n",
              "        vertical-align: top;\n",
              "    }\n",
              "\n",
              "    .dataframe thead th {\n",
              "        text-align: right;\n",
              "    }\n",
              "</style>\n",
              "<table border=\"1\" class=\"dataframe\">\n",
              "  <thead>\n",
              "    <tr style=\"text-align: right;\">\n",
              "      <th></th>\n",
              "      <th>Categories</th>\n",
              "      <th>Contexts</th>\n",
              "      <th>Questions</th>\n",
              "      <th>guid</th>\n",
              "    </tr>\n",
              "  </thead>\n",
              "  <tbody>\n",
              "  </tbody>\n",
              "</table>\n",
              "</div>"
            ],
            "text/plain": [
              "Empty DataFrame\n",
              "Columns: [Categories, Contexts, Questions, guid]\n",
              "Index: []"
            ]
          },
          "execution_count": 55,
          "metadata": {},
          "output_type": "execute_result"
        }
      ],
      "source": [
        "# duplicates\n",
        "print(len(test_df[test_df.duplicated(keep=False)].sort_values(\"Contexts\")))\n",
        "test_df[test_df.duplicated(keep=False)].sort_values(\"Contexts\")"
      ]
    },
    {
      "cell_type": "code",
      "execution_count": null,
      "id": "VSb8CD4ix7kq",
      "metadata": {
        "colab": {
          "base_uri": "https://localhost:8080/",
          "height": 49
        },
        "id": "VSb8CD4ix7kq",
        "outputId": "40b9499d-77cd-4ab2-bdfe-4caf807f663b"
      },
      "outputs": [
        {
          "data": {
            "text/html": [
              "<div>\n",
              "<style scoped>\n",
              "    .dataframe tbody tr th:only-of-type {\n",
              "        vertical-align: middle;\n",
              "    }\n",
              "\n",
              "    .dataframe tbody tr th {\n",
              "        vertical-align: top;\n",
              "    }\n",
              "\n",
              "    .dataframe thead th {\n",
              "        text-align: right;\n",
              "    }\n",
              "</style>\n",
              "<table border=\"1\" class=\"dataframe\">\n",
              "  <thead>\n",
              "    <tr style=\"text-align: right;\">\n",
              "      <th></th>\n",
              "      <th>Categories</th>\n",
              "      <th>Contexts</th>\n",
              "      <th>Questions</th>\n",
              "      <th>guid</th>\n",
              "    </tr>\n",
              "  </thead>\n",
              "  <tbody>\n",
              "  </tbody>\n",
              "</table>\n",
              "</div>"
            ],
            "text/plain": [
              "Empty DataFrame\n",
              "Columns: [Categories, Contexts, Questions, guid]\n",
              "Index: []"
            ]
          },
          "execution_count": 56,
          "metadata": {},
          "output_type": "execute_result"
        }
      ],
      "source": [
        "test_df[test_df.duplicated([\"Questions\"],keep=False)].sort_values(\"Contexts\")"
      ]
    },
    {
      "cell_type": "markdown",
      "id": "CQfQa82nRhrN",
      "metadata": {
        "id": "CQfQa82nRhrN"
      },
      "source": [
        "## Domain Distribution:Train 과 비슷"
      ]
    },
    {
      "cell_type": "code",
      "execution_count": null,
      "id": "ec2S-CALwPg5",
      "metadata": {
        "id": "ec2S-CALwPg5"
      },
      "outputs": [],
      "source": [
        "test_category_df = test_df['Categories'].value_counts().rename_axis('unique_values').reset_index(name='counts')"
      ]
    },
    {
      "cell_type": "code",
      "execution_count": null,
      "id": "MLr8cxj4wSr6",
      "metadata": {
        "colab": {
          "base_uri": "https://localhost:8080/",
          "height": 509
        },
        "id": "MLr8cxj4wSr6",
        "outputId": "79643d0a-92f4-4430-eb10-28cb5ff91df6"
      },
      "outputs": [
        {
          "data": {
            "image/png": "[encoded data removed]",
            "text/plain": [
              "<Figure size 720x540 with 1 Axes>"
            ]
          },
          "metadata": {
            "needs_background": "light"
          },
          "output_type": "display_data"
        }
      ],
      "source": [
        "warnings.filterwarnings(\"ignore\")\n",
        "figure(figsize=(8, 6), dpi=90)\n",
        "plt.bar(test_category_df.unique_values, test_category_df.counts)\n",
        "plt.xticks(rotation=90)\n",
        "plt.show()"
      ]
    },
    {
      "cell_type": "markdown",
      "id": "u15_h_0kuvTI",
      "metadata": {
        "id": "u15_h_0kuvTI"
      },
      "source": [
        "## 문장 길이"
      ]
    },
    {
      "cell_type": "markdown",
      "id": "s2OaHzy6uwmh",
      "metadata": {
        "id": "s2OaHzy6uwmh"
      },
      "source": [
        "### Contexts"
      ]
    },
    {
      "cell_type": "code",
      "execution_count": null,
      "id": "SVLIVeEDu00Q",
      "metadata": {
        "id": "SVLIVeEDu00Q"
      },
      "outputs": [],
      "source": [
        "test_context_list, test_question_list, test_context_question_list, _ = get_length(test_df)"
      ]
    },
    {
      "cell_type": "code",
      "execution_count": null,
      "id": "AqtXy2B0vaTy",
      "metadata": {
        "colab": {
          "base_uri": "https://localhost:8080/",
          "height": 294
        },
        "id": "AqtXy2B0vaTy",
        "outputId": "d5022cf0-413d-44ca-c146-cb6fcf81371b"
      },
      "outputs": [
        {
          "data": {
            "image/png": "[encoded data removed]",
            "text/plain": [
              "<Figure size 432x288 with 1 Axes>"
            ]
          },
          "metadata": {
            "needs_background": "light"
          },
          "output_type": "display_data"
        }
      ],
      "source": [
        "n, bins, patches=plt.hist(test_context_list)\n",
        "plt.xlabel(\"Context Length\")\n",
        "plt.ylabel(\"Frequency\")\n",
        "plt.title(\"Histogram\")\n",
        "plt.show()"
      ]
    },
    {
      "cell_type": "markdown",
      "id": "noOLl9mdvl7o",
      "metadata": {
        "id": "noOLl9mdvl7o"
      },
      "source": [
        "### Questions"
      ]
    },
    {
      "cell_type": "code",
      "execution_count": null,
      "id": "f8nqlJBHvb6e",
      "metadata": {
        "colab": {
          "base_uri": "https://localhost:8080/",
          "height": 294
        },
        "id": "f8nqlJBHvb6e",
        "outputId": "0ee5faff-3488-4b1d-8c1e-a8060b080a49"
      },
      "outputs": [
        {
          "data": {
            "image/png": "[encoded data removed]",
            "text/plain": [
              "<Figure size 432x288 with 1 Axes>"
            ]
          },
          "metadata": {
            "needs_background": "light"
          },
          "output_type": "display_data"
        }
      ],
      "source": [
        "n, bins, patches=plt.hist(test_question_list)\n",
        "plt.xlabel(\"Question Length\")\n",
        "plt.ylabel(\"Frequency\")\n",
        "plt.title(\"Histogram\")\n",
        "plt.show()"
      ]
    },
    {
      "cell_type": "markdown",
      "id": "N5ZBOFIPvnEO",
      "metadata": {
        "id": "N5ZBOFIPvnEO"
      },
      "source": [
        "### Contexts + Questions"
      ]
    },
    {
      "cell_type": "code",
      "execution_count": null,
      "id": "Qh8YbGl_vnBP",
      "metadata": {
        "colab": {
          "base_uri": "https://localhost:8080/",
          "height": 294
        },
        "id": "Qh8YbGl_vnBP",
        "outputId": "07594c11-4ab4-472e-ed8a-e5c28c21c45b"
      },
      "outputs": [
        {
          "data": {
            "image/png": "[encoded data removed]",
            "text/plain": [
              "<Figure size 432x288 with 1 Axes>"
            ]
          },
          "metadata": {
            "needs_background": "light"
          },
          "output_type": "display_data"
        }
      ],
      "source": [
        "n, bins, patches=plt.hist(test_context_question_list)\n",
        "plt.xlabel(\"Context + Question Length\")\n",
        "plt.ylabel(\"Frequency\")\n",
        "plt.title(\"Histogram\")\n",
        "plt.show()"
      ]
    },
    {
      "cell_type": "code",
      "execution_count": null,
      "id": "swxtAMyEcH9w",
      "metadata": {
        "id": "swxtAMyEcH9w"
      },
      "outputs": [],
      "source": [
        "class Test_Dataset(Dataset):\n",
        "\n",
        "    def __init__(self, contexts, questions, guids, model_max_position_embedings, tokenizer):\n",
        "        self.tokenizer = tokenizer\n",
        "        self.questions = questions\n",
        "        self.contexts = contexts\n",
        "        self.guids = guids\n",
        "        self.model_max_position_embedings = model_max_position_embedings\n",
        "        print(\"Tokenizing ...\")\n",
        "        self.encodings = self.tokenizer(self.contexts, \n",
        "                                        self.questions,\n",
        "                                        max_length=self.model_max_position_embedings, \n",
        "                                        truncation=True,\n",
        "                                        padding=\"max_length\",\n",
        "                                        return_token_type_ids=False)\n",
        "        print(\"Done !!!\")\n",
        "\n",
        "    def get_data(self):\n",
        "        return {\"contexts\":self.contexts, 'questions':self.questions, 'guids':self.guids}\n",
        "    \n",
        "\n",
        "    def __getitem__(self, idx):\n",
        "        return {key:torch.tensor(val[idx]) for key, val in self.encodings.items()}\n",
        "    \n",
        "\n",
        "    def __len__(self):\n",
        "        return len(self.encodings['input_ids'])"
      ]
    },
    {
      "cell_type": "code",
      "execution_count": null,
      "id": "-QEXIjSAdoeI",
      "metadata": {
        "colab": {
          "base_uri": "https://localhost:8080/"
        },
        "id": "-QEXIjSAdoeI",
        "outputId": "03b22674-813a-479f-99a7-ba2b32e3080c"
      },
      "outputs": [
        {
          "name": "stdout",
          "output_type": "stream",
          "text": [
            "Tokenizing ...\n",
            "Done !!!\n"
          ]
        }
      ],
      "source": [
        "temp_test_dataset = Test_Dataset(test_contexts, test_questions, test_guids, 512, tokenizer)"
      ]
    },
    {
      "cell_type": "code",
      "execution_count": null,
      "id": "-EVBQ2LOb1NC",
      "metadata": {
        "colab": {
          "base_uri": "https://localhost:8080/",
          "height": 294
        },
        "id": "-EVBQ2LOb1NC",
        "outputId": "64775455-2f18-41c9-f49e-2e42b48cfb06"
      },
      "outputs": [
        {
          "data": {
            "image/png": "[encoded data removed]",
            "text/plain": [
              "<Figure size 432x288 with 1 Axes>"
            ]
          },
          "metadata": {
            "needs_background": "light"
          },
          "output_type": "display_data"
        }
      ],
      "source": [
        "# tokens\n",
        "temp_test_length_list = get_token_nums(temp_test_dataset)\n",
        "\n",
        "n, bins, patches=plt.hist(temp_test_length_list)\n",
        "plt.xlabel(\"#Tokens in Contexts + Questions\")\n",
        "plt.ylabel(\"Frequency\")\n",
        "plt.title(\"Histogram\")\n",
        "plt.show()"
      ]
    },
    {
      "cell_type": "code",
      "execution_count": null,
      "id": "mlW_VQrodm1A",
      "metadata": {
        "colab": {
          "base_uri": "https://localhost:8080/",
          "height": 294
        },
        "id": "mlW_VQrodm1A",
        "outputId": "7e23f425-4894-4a49-c331-a68fff62d33b"
      },
      "outputs": [
        {
          "data": {
            "image/png": "[encoded data removed]",
            "text/plain": [
              "<Figure size 432x288 with 1 Axes>"
            ]
          },
          "metadata": {
            "needs_background": "light"
          },
          "output_type": "display_data"
        }
      ],
      "source": [
        "# unknown tokens\n",
        "temp_test_one_num_list = get_one_nums(temp_test_dataset)\n",
        "\n",
        "n, bins, patches=plt.hist(temp_test_one_num_list)\n",
        "plt.xlabel(\"#1s\")\n",
        "plt.ylabel(\"Frequency\")\n",
        "plt.title(\"Histogram\")\n",
        "plt.show()"
      ]
    }
  ],
  "metadata": {
    "colab": {
      "collapsed_sections": [],
      "machine_shape": "hm",
      "name": "EDA.ipynb",
      "provenance": [],
      "toc_visible": true
    },
    "kernelspec": {
      "display_name": "Python 3",
      "language": "python",
      "name": "python3"
    },
    "language_info": {
      "codemirror_mode": {
        "name": "ipython",
        "version": 3
      },
      "file_extension": ".py",
      "mimetype": "text/x-python",
      "name": "python",
      "nbconvert_exporter": "python",
      "pygments_lexer": "ipython3",
      "version": "3.7.9"
    },
    "widgets": {
      "application/vnd.jupyter.widget-state+json": {
        "01b0f4e2d61b4f8189052e2734603ce4": {
          "model_module": "@jupyter-widgets/base",
          "model_module_version": "1.2.0",
          "model_name": "LayoutModel",
          "state": {
            "_model_module": "@jupyter-widgets/base",
            "_model_module_version": "1.2.0",
            "_model_name": "LayoutModel",
            "_view_count": null,
            "_view_module": "@jupyter-widgets/base",
            "_view_module_version": "1.2.0",
            "_view_name": "LayoutView",
            "align_content": null,
            "align_items": null,
            "align_self": null,
            "border": null,
            "bottom": null,
            "display": null,
            "flex": null,
            "flex_flow": null,
            "grid_area": null,
            "grid_auto_columns": null,
            "grid_auto_flow": null,
            "grid_auto_rows": null,
            "grid_column": null,
            "grid_gap": null,
            "grid_row": null,
            "grid_template_areas": null,
            "grid_template_columns": null,
            "grid_template_rows": null,
            "height": null,
            "justify_content": null,
            "justify_items": null,
            "left": null,
            "margin": null,
            "max_height": null,
            "max_width": null,
            "min_height": null,
            "min_width": null,
            "object_fit": null,
            "object_position": null,
            "order": null,
            "overflow": null,
            "overflow_x": null,
            "overflow_y": null,
            "padding": null,
            "right": null,
            "top": null,
            "visibility": null,
            "width": null
          }
        },
        "05b83d44085342eba81ee3f89e99bff4": {
          "model_module": "@jupyter-widgets/controls",
          "model_module_version": "1.5.0",
          "model_name": "DescriptionStyleModel",
          "state": {
            "_model_module": "@jupyter-widgets/controls",
            "_model_module_version": "1.5.0",
            "_model_name": "DescriptionStyleModel",
            "_view_count": null,
            "_view_module": "@jupyter-widgets/base",
            "_view_module_version": "1.2.0",
            "_view_name": "StyleView",
            "description_width": ""
          }
        },
        "1876c80c00b94b18ba4073ace5492211": {
          "model_module": "@jupyter-widgets/controls",
          "model_module_version": "1.5.0",
          "model_name": "HTMLModel",
          "state": {
            "_dom_classes": [],
            "_model_module": "@jupyter-widgets/controls",
            "_model_module_version": "1.5.0",
            "_model_name": "HTMLModel",
            "_view_count": null,
            "_view_module": "@jupyter-widgets/controls",
            "_view_module_version": "1.5.0",
            "_view_name": "HTMLView",
            "description": "",
            "description_tooltip": null,
            "layout": "IPY_MODEL_01b0f4e2d61b4f8189052e2734603ce4",
            "placeholder": "​",
            "style": "IPY_MODEL_f3fc8858f2a94f1095eb9f742b2b2ebe",
            "value": "100%"
          }
        },
        "29817b6ac83c4d4ea4efd5689e05a34f": {
          "model_module": "@jupyter-widgets/controls",
          "model_module_version": "1.5.0",
          "model_name": "DescriptionStyleModel",
          "state": {
            "_model_module": "@jupyter-widgets/controls",
            "_model_module_version": "1.5.0",
            "_model_name": "DescriptionStyleModel",
            "_view_count": null,
            "_view_module": "@jupyter-widgets/base",
            "_view_module_version": "1.2.0",
            "_view_name": "StyleView",
            "description_width": ""
          }
        },
        "33ef1b75f3b34b5993747e732fe2a918": {
          "model_module": "@jupyter-widgets/controls",
          "model_module_version": "1.5.0",
          "model_name": "FloatProgressModel",
          "state": {
            "_dom_classes": [],
            "_model_module": "@jupyter-widgets/controls",
            "_model_module_version": "1.5.0",
            "_model_name": "FloatProgressModel",
            "_view_count": null,
            "_view_module": "@jupyter-widgets/controls",
            "_view_module_version": "1.5.0",
            "_view_name": "ProgressView",
            "bar_style": "success",
            "description": "",
            "description_tooltip": null,
            "layout": "IPY_MODEL_59f3719a967541abb62e817adf71fc35",
            "max": 3709,
            "min": 0,
            "orientation": "horizontal",
            "style": "IPY_MODEL_75344d20fda849d18ab814126cdba238",
            "value": 3709
          }
        },
        "59f3719a967541abb62e817adf71fc35": {
          "model_module": "@jupyter-widgets/base",
          "model_module_version": "1.2.0",
          "model_name": "LayoutModel",
          "state": {
            "_model_module": "@jupyter-widgets/base",
            "_model_module_version": "1.2.0",
            "_model_name": "LayoutModel",
            "_view_count": null,
            "_view_module": "@jupyter-widgets/base",
            "_view_module_version": "1.2.0",
            "_view_name": "LayoutView",
            "align_content": null,
            "align_items": null,
            "align_self": null,
            "border": null,
            "bottom": null,
            "display": null,
            "flex": null,
            "flex_flow": null,
            "grid_area": null,
            "grid_auto_columns": null,
            "grid_auto_flow": null,
            "grid_auto_rows": null,
            "grid_column": null,
            "grid_gap": null,
            "grid_row": null,
            "grid_template_areas": null,
            "grid_template_columns": null,
            "grid_template_rows": null,
            "height": null,
            "justify_content": null,
            "justify_items": null,
            "left": null,
            "margin": null,
            "max_height": null,
            "max_width": null,
            "min_height": null,
            "min_width": null,
            "object_fit": null,
            "object_position": null,
            "order": null,
            "overflow": null,
            "overflow_x": null,
            "overflow_y": null,
            "padding": null,
            "right": null,
            "top": null,
            "visibility": null,
            "width": null
          }
        },
        "69cd5f4202cf40abb012d6bfb1b70f70": {
          "model_module": "@jupyter-widgets/controls",
          "model_module_version": "1.5.0",
          "model_name": "HTMLModel",
          "state": {
            "_dom_classes": [],
            "_model_module": "@jupyter-widgets/controls",
            "_model_module_version": "1.5.0",
            "_model_name": "HTMLModel",
            "_view_count": null,
            "_view_module": "@jupyter-widgets/controls",
            "_view_module_version": "1.5.0",
            "_view_name": "HTMLView",
            "description": "",
            "description_tooltip": null,
            "layout": "IPY_MODEL_8ef0da9f06424ede9e13d250e78b2614",
            "placeholder": "​",
            "style": "IPY_MODEL_ce8a94f157484423b4d47d0f53061923",
            "value": "100%"
          }
        },
        "745304763f354a1db4043e646c0a147b": {
          "model_module": "@jupyter-widgets/base",
          "model_module_version": "1.2.0",
          "model_name": "LayoutModel",
          "state": {
            "_model_module": "@jupyter-widgets/base",
            "_model_module_version": "1.2.0",
            "_model_name": "LayoutModel",
            "_view_count": null,
            "_view_module": "@jupyter-widgets/base",
            "_view_module_version": "1.2.0",
            "_view_name": "LayoutView",
            "align_content": null,
            "align_items": null,
            "align_self": null,
            "border": null,
            "bottom": null,
            "display": null,
            "flex": null,
            "flex_flow": null,
            "grid_area": null,
            "grid_auto_columns": null,
            "grid_auto_flow": null,
            "grid_auto_rows": null,
            "grid_column": null,
            "grid_gap": null,
            "grid_row": null,
            "grid_template_areas": null,
            "grid_template_columns": null,
            "grid_template_rows": null,
            "height": null,
            "justify_content": null,
            "justify_items": null,
            "left": null,
            "margin": null,
            "max_height": null,
            "max_width": null,
            "min_height": null,
            "min_width": null,
            "object_fit": null,
            "object_position": null,
            "order": null,
            "overflow": null,
            "overflow_x": null,
            "overflow_y": null,
            "padding": null,
            "right": null,
            "top": null,
            "visibility": null,
            "width": null
          }
        },
        "75344d20fda849d18ab814126cdba238": {
          "model_module": "@jupyter-widgets/controls",
          "model_module_version": "1.5.0",
          "model_name": "ProgressStyleModel",
          "state": {
            "_model_module": "@jupyter-widgets/controls",
            "_model_module_version": "1.5.0",
            "_model_name": "ProgressStyleModel",
            "_view_count": null,
            "_view_module": "@jupyter-widgets/base",
            "_view_module_version": "1.2.0",
            "_view_name": "StyleView",
            "bar_color": null,
            "description_width": ""
          }
        },
        "8ef0da9f06424ede9e13d250e78b2614": {
          "model_module": "@jupyter-widgets/base",
          "model_module_version": "1.2.0",
          "model_name": "LayoutModel",
          "state": {
            "_model_module": "@jupyter-widgets/base",
            "_model_module_version": "1.2.0",
            "_model_name": "LayoutModel",
            "_view_count": null,
            "_view_module": "@jupyter-widgets/base",
            "_view_module_version": "1.2.0",
            "_view_name": "LayoutView",
            "align_content": null,
            "align_items": null,
            "align_self": null,
            "border": null,
            "bottom": null,
            "display": null,
            "flex": null,
            "flex_flow": null,
            "grid_area": null,
            "grid_auto_columns": null,
            "grid_auto_flow": null,
            "grid_auto_rows": null,
            "grid_column": null,
            "grid_gap": null,
            "grid_row": null,
            "grid_template_areas": null,
            "grid_template_columns": null,
            "grid_template_rows": null,
            "height": null,
            "justify_content": null,
            "justify_items": null,
            "left": null,
            "margin": null,
            "max_height": null,
            "max_width": null,
            "min_height": null,
            "min_width": null,
            "object_fit": null,
            "object_position": null,
            "order": null,
            "overflow": null,
            "overflow_x": null,
            "overflow_y": null,
            "padding": null,
            "right": null,
            "top": null,
            "visibility": null,
            "width": null
          }
        },
        "987bab210fb94ecd8669b692419e96d5": {
          "model_module": "@jupyter-widgets/controls",
          "model_module_version": "1.5.0",
          "model_name": "HTMLModel",
          "state": {
            "_dom_classes": [],
            "_model_module": "@jupyter-widgets/controls",
            "_model_module_version": "1.5.0",
            "_model_name": "HTMLModel",
            "_view_count": null,
            "_view_module": "@jupyter-widgets/controls",
            "_view_module_version": "1.5.0",
            "_view_name": "HTMLView",
            "description": "",
            "description_tooltip": null,
            "layout": "IPY_MODEL_d2a1328ba098456bb13b9bd9cedefd32",
            "placeholder": "​",
            "style": "IPY_MODEL_29817b6ac83c4d4ea4efd5689e05a34f",
            "value": " 9789/9789 [00:00&lt;00:00, 145449.93it/s]"
          }
        },
        "987bc8c099d94f4283d1b43e22f9c8ba": {
          "model_module": "@jupyter-widgets/controls",
          "model_module_version": "1.5.0",
          "model_name": "HBoxModel",
          "state": {
            "_dom_classes": [],
            "_model_module": "@jupyter-widgets/controls",
            "_model_module_version": "1.5.0",
            "_model_name": "HBoxModel",
            "_view_count": null,
            "_view_module": "@jupyter-widgets/controls",
            "_view_module_version": "1.5.0",
            "_view_name": "HBoxView",
            "box_style": "",
            "children": [
              "IPY_MODEL_69cd5f4202cf40abb012d6bfb1b70f70",
              "IPY_MODEL_33ef1b75f3b34b5993747e732fe2a918",
              "IPY_MODEL_d9506cdbb9c9425fadf8c721ce464eb9"
            ],
            "layout": "IPY_MODEL_b5b7430b14a34d7c8e785443755299f7"
          }
        },
        "a860ad4a54f9477eb169d1eb3ad30abd": {
          "model_module": "@jupyter-widgets/controls",
          "model_module_version": "1.5.0",
          "model_name": "HBoxModel",
          "state": {
            "_dom_classes": [],
            "_model_module": "@jupyter-widgets/controls",
            "_model_module_version": "1.5.0",
            "_model_name": "HBoxModel",
            "_view_count": null,
            "_view_module": "@jupyter-widgets/controls",
            "_view_module_version": "1.5.0",
            "_view_name": "HBoxView",
            "box_style": "",
            "children": [
              "IPY_MODEL_1876c80c00b94b18ba4073ace5492211",
              "IPY_MODEL_de5b4a0ea7104ba6b8ace33d9fba09a0",
              "IPY_MODEL_987bab210fb94ecd8669b692419e96d5"
            ],
            "layout": "IPY_MODEL_c8a93638c3c94e3697101c643912ece7"
          }
        },
        "b5b7430b14a34d7c8e785443755299f7": {
          "model_module": "@jupyter-widgets/base",
          "model_module_version": "1.2.0",
          "model_name": "LayoutModel",
          "state": {
            "_model_module": "@jupyter-widgets/base",
            "_model_module_version": "1.2.0",
            "_model_name": "LayoutModel",
            "_view_count": null,
            "_view_module": "@jupyter-widgets/base",
            "_view_module_version": "1.2.0",
            "_view_name": "LayoutView",
            "align_content": null,
            "align_items": null,
            "align_self": null,
            "border": null,
            "bottom": null,
            "display": null,
            "flex": null,
            "flex_flow": null,
            "grid_area": null,
            "grid_auto_columns": null,
            "grid_auto_flow": null,
            "grid_auto_rows": null,
            "grid_column": null,
            "grid_gap": null,
            "grid_row": null,
            "grid_template_areas": null,
            "grid_template_columns": null,
            "grid_template_rows": null,
            "height": null,
            "justify_content": null,
            "justify_items": null,
            "left": null,
            "margin": null,
            "max_height": null,
            "max_width": null,
            "min_height": null,
            "min_width": null,
            "object_fit": null,
            "object_position": null,
            "order": null,
            "overflow": null,
            "overflow_x": null,
            "overflow_y": null,
            "padding": null,
            "right": null,
            "top": null,
            "visibility": null,
            "width": null
          }
        },
        "c8a93638c3c94e3697101c643912ece7": {
          "model_module": "@jupyter-widgets/base",
          "model_module_version": "1.2.0",
          "model_name": "LayoutModel",
          "state": {
            "_model_module": "@jupyter-widgets/base",
            "_model_module_version": "1.2.0",
            "_model_name": "LayoutModel",
            "_view_count": null,
            "_view_module": "@jupyter-widgets/base",
            "_view_module_version": "1.2.0",
            "_view_name": "LayoutView",
            "align_content": null,
            "align_items": null,
            "align_self": null,
            "border": null,
            "bottom": null,
            "display": null,
            "flex": null,
            "flex_flow": null,
            "grid_area": null,
            "grid_auto_columns": null,
            "grid_auto_flow": null,
            "grid_auto_rows": null,
            "grid_column": null,
            "grid_gap": null,
            "grid_row": null,
            "grid_template_areas": null,
            "grid_template_columns": null,
            "grid_template_rows": null,
            "height": null,
            "justify_content": null,
            "justify_items": null,
            "left": null,
            "margin": null,
            "max_height": null,
            "max_width": null,
            "min_height": null,
            "min_width": null,
            "object_fit": null,
            "object_position": null,
            "order": null,
            "overflow": null,
            "overflow_x": null,
            "overflow_y": null,
            "padding": null,
            "right": null,
            "top": null,
            "visibility": null,
            "width": null
          }
        },
        "ce8a94f157484423b4d47d0f53061923": {
          "model_module": "@jupyter-widgets/controls",
          "model_module_version": "1.5.0",
          "model_name": "DescriptionStyleModel",
          "state": {
            "_model_module": "@jupyter-widgets/controls",
            "_model_module_version": "1.5.0",
            "_model_name": "DescriptionStyleModel",
            "_view_count": null,
            "_view_module": "@jupyter-widgets/base",
            "_view_module_version": "1.2.0",
            "_view_name": "StyleView",
            "description_width": ""
          }
        },
        "cfc67b4360774a61ba3afc7c04420e6e": {
          "model_module": "@jupyter-widgets/controls",
          "model_module_version": "1.5.0",
          "model_name": "ProgressStyleModel",
          "state": {
            "_model_module": "@jupyter-widgets/controls",
            "_model_module_version": "1.5.0",
            "_model_name": "ProgressStyleModel",
            "_view_count": null,
            "_view_module": "@jupyter-widgets/base",
            "_view_module_version": "1.2.0",
            "_view_name": "StyleView",
            "bar_color": null,
            "description_width": ""
          }
        },
        "d2a1328ba098456bb13b9bd9cedefd32": {
          "model_module": "@jupyter-widgets/base",
          "model_module_version": "1.2.0",
          "model_name": "LayoutModel",
          "state": {
            "_model_module": "@jupyter-widgets/base",
            "_model_module_version": "1.2.0",
            "_model_name": "LayoutModel",
            "_view_count": null,
            "_view_module": "@jupyter-widgets/base",
            "_view_module_version": "1.2.0",
            "_view_name": "LayoutView",
            "align_content": null,
            "align_items": null,
            "align_self": null,
            "border": null,
            "bottom": null,
            "display": null,
            "flex": null,
            "flex_flow": null,
            "grid_area": null,
            "grid_auto_columns": null,
            "grid_auto_flow": null,
            "grid_auto_rows": null,
            "grid_column": null,
            "grid_gap": null,
            "grid_row": null,
            "grid_template_areas": null,
            "grid_template_columns": null,
            "grid_template_rows": null,
            "height": null,
            "justify_content": null,
            "justify_items": null,
            "left": null,
            "margin": null,
            "max_height": null,
            "max_width": null,
            "min_height": null,
            "min_width": null,
            "object_fit": null,
            "object_position": null,
            "order": null,
            "overflow": null,
            "overflow_x": null,
            "overflow_y": null,
            "padding": null,
            "right": null,
            "top": null,
            "visibility": null,
            "width": null
          }
        },
        "d9506cdbb9c9425fadf8c721ce464eb9": {
          "model_module": "@jupyter-widgets/controls",
          "model_module_version": "1.5.0",
          "model_name": "HTMLModel",
          "state": {
            "_dom_classes": [],
            "_model_module": "@jupyter-widgets/controls",
            "_model_module_version": "1.5.0",
            "_model_name": "HTMLModel",
            "_view_count": null,
            "_view_module": "@jupyter-widgets/controls",
            "_view_module_version": "1.5.0",
            "_view_name": "HTMLView",
            "description": "",
            "description_tooltip": null,
            "layout": "IPY_MODEL_e2c0ebb7b28e461eaa7c0449610665f5",
            "placeholder": "​",
            "style": "IPY_MODEL_05b83d44085342eba81ee3f89e99bff4",
            "value": " 3709/3709 [00:00&lt;00:00, 84425.09it/s]"
          }
        },
        "de5b4a0ea7104ba6b8ace33d9fba09a0": {
          "model_module": "@jupyter-widgets/controls",
          "model_module_version": "1.5.0",
          "model_name": "FloatProgressModel",
          "state": {
            "_dom_classes": [],
            "_model_module": "@jupyter-widgets/controls",
            "_model_module_version": "1.5.0",
            "_model_name": "FloatProgressModel",
            "_view_count": null,
            "_view_module": "@jupyter-widgets/controls",
            "_view_module_version": "1.5.0",
            "_view_name": "ProgressView",
            "bar_style": "success",
            "description": "",
            "description_tooltip": null,
            "layout": "IPY_MODEL_745304763f354a1db4043e646c0a147b",
            "max": 9789,
            "min": 0,
            "orientation": "horizontal",
            "style": "IPY_MODEL_cfc67b4360774a61ba3afc7c04420e6e",
            "value": 9789
          }
        },
        "e2c0ebb7b28e461eaa7c0449610665f5": {
          "model_module": "@jupyter-widgets/base",
          "model_module_version": "1.2.0",
          "model_name": "LayoutModel",
          "state": {
            "_model_module": "@jupyter-widgets/base",
            "_model_module_version": "1.2.0",
            "_model_name": "LayoutModel",
            "_view_count": null,
            "_view_module": "@jupyter-widgets/base",
            "_view_module_version": "1.2.0",
            "_view_name": "LayoutView",
            "align_content": null,
            "align_items": null,
            "align_self": null,
            "border": null,
            "bottom": null,
            "display": null,
            "flex": null,
            "flex_flow": null,
            "grid_area": null,
            "grid_auto_columns": null,
            "grid_auto_flow": null,
            "grid_auto_rows": null,
            "grid_column": null,
            "grid_gap": null,
            "grid_row": null,
            "grid_template_areas": null,
            "grid_template_columns": null,
            "grid_template_rows": null,
            "height": null,
            "justify_content": null,
            "justify_items": null,
            "left": null,
            "margin": null,
            "max_height": null,
            "max_width": null,
            "min_height": null,
            "min_width": null,
            "object_fit": null,
            "object_position": null,
            "order": null,
            "overflow": null,
            "overflow_x": null,
            "overflow_y": null,
            "padding": null,
            "right": null,
            "top": null,
            "visibility": null,
            "width": null
          }
        },
        "f3fc8858f2a94f1095eb9f742b2b2ebe": {
          "model_module": "@jupyter-widgets/controls",
          "model_module_version": "1.5.0",
          "model_name": "DescriptionStyleModel",
          "state": {
            "_model_module": "@jupyter-widgets/controls",
            "_model_module_version": "1.5.0",
            "_model_name": "DescriptionStyleModel",
            "_view_count": null,
            "_view_module": "@jupyter-widgets/base",
            "_view_module_version": "1.2.0",
            "_view_name": "StyleView",
            "description_width": ""
          }
        }
      }
    }
  },
  "nbformat": 4,
  "nbformat_minor": 5
}
